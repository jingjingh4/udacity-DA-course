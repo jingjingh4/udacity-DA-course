{
 "cells": [
  {
   "cell_type": "code",
   "execution_count": 5,
   "metadata": {},
   "outputs": [],
   "source": [
    "import pandas as pd\n",
    "import os\n",
    "import requests\n",
    "import tweepy\n",
    "import json\n",
    "import re"
   ]
  },
  {
   "cell_type": "markdown",
   "metadata": {},
   "source": [
    "### 收集数据\n",
    "#### WeRateDog的twitter档案"
   ]
  },
  {
   "cell_type": "code",
   "execution_count": 3,
   "metadata": {},
   "outputs": [],
   "source": [
    "twitter_archive = pd.read_csv('twitter-archive-enhanced.csv')\n"
   ]
  },
  {
   "cell_type": "markdown",
   "metadata": {},
   "source": [
    "#### twitter图像预测数据"
   ]
  },
  {
   "cell_type": "code",
   "execution_count": 8,
   "metadata": {},
   "outputs": [],
   "source": [
    "# download the file of image predictions from the URL\n",
    "\n",
    "url = 'https://raw.githubusercontent.com/udacity/new-dand-advanced-china/master/%E6%95%B0%E6%8D%AE%E6%B8%85%E6%B4%97/WeRateDogs%E9%A1%B9%E7%9B%AE/image-predictions.tsv'\n",
    "response = requests.get(url)\n",
    "\n",
    "with open(url.split('/')[-1], mode='wb') as file:\n",
    "        file.write(response.content)\n",
    "        "
   ]
  },
  {
   "cell_type": "code",
   "execution_count": 9,
   "metadata": {},
   "outputs": [],
   "source": [
    "# upload the date from the file\n",
    "image_predictions = pd.read_csv(url.split('/')[-1], sep='\\t')\n"
   ]
  },
  {
   "cell_type": "markdown",
   "metadata": {},
   "source": [
    "#### twitter附加数据"
   ]
  },
  {
   "cell_type": "code",
   "execution_count": null,
   "metadata": {},
   "outputs": [],
   "source": [
    "# get twitter API\n",
    "consumer_key = 'YOUR CONSUMER KEY'\n",
    "consumer_secret = 'YOUR CONSUMER SECRET'\n",
    "access_token = 'YOUR ACCESS TOKEN'\n",
    "access_secret = 'YOUR ACCESS SECRET'\n",
    "\n",
    "auth = tweepy.OAuthHandler(consumer_key, consumer_secret)\n",
    "auth.set_access_token(access_token, access_secret)\n",
    "\n",
    "api = tweepy.API(auth, wait_on_rate_limit=True, wait_on_rate_limit_notify=True)\n"
   ]
  },
  {
   "cell_type": "code",
   "execution_count": null,
   "metadata": {},
   "outputs": [],
   "source": [
    "# find the twitter content\n",
    "for tweet_id in twitter_archive['tweet_id']:\n",
    "    try:\n",
    "        # download the content of the specific id\n",
    "        tweet = api.get_status(tweet_id, tweet_mode='extended')\n",
    "        # append data into txt\n",
    "        with open('tweet_json.txt', 'w') as f:\n",
    "            f.write(json.dump(tweet, f, ensure_ascii=False))\n",
    "    # not best practice to catch all exceptions        \n",
    "    except Exception as e:\n",
    "        print('%: The content of % has been deleted'.format(e, tweet_id))\n",
    "        "
   ]
  },
  {
   "cell_type": "code",
   "execution_count": 11,
   "metadata": {},
   "outputs": [],
   "source": [
    "# read txt data to build a list of dictionary\n",
    "json_list = []\n",
    "\n",
    "with open('tweet_json.txt', 'r') as f:\n",
    "    for line in f.readlines():\n",
    "        df = json.loads(line)\n",
    "\n",
    "        json_list.append(df)\n"
   ]
  },
  {
   "cell_type": "code",
   "execution_count": 12,
   "metadata": {},
   "outputs": [],
   "source": [
    "# create DataFrame from list of dictionary\n",
    "df_list = []\n",
    "for item in json_list:\n",
    "    tweet_ID = item['id']\n",
    "    retweet_count = item['retweet_count']\n",
    "    favorite_count = item['favorite_count']\n",
    "    \n",
    "    df_list.append({'tweet_id': tweet_ID,\n",
    "                   'retweet_count': retweet_count,\n",
    "                   'favorite_count': favorite_count})\n",
    "    \n",
    "tweet_extra_data = pd.DataFrame(df_list, columns = ['tweet_id', 'retweet_count', 'favorite_count'])\n"
   ]
  },
  {
   "cell_type": "markdown",
   "metadata": {},
   "source": [
    "### 数据评估\n",
    "\n",
    "通过目测评估和编程评估的方式对数据进行质量及整洁度的评估"
   ]
  },
  {
   "cell_type": "markdown",
   "metadata": {},
   "source": [
    "#### 质量 quality  \n",
    "\n",
    "*twitter_archive table*\n",
    "* 'tweet_id' is an int not a string\n",
    "* The columns 'in_reply_to_status_id', 'in_reply_to_user_id', 'retweeted_status_id', 'retweeted_status_user_id', 'retweeted_status_timestamp' have too much missing data \n",
    "* The dataset doesn't need retweet contents\n",
    "* 'timestamp' is a string not a datatype and contains '+0000'\n",
    "* 'source' includes useless infomation such like http link\n",
    "* 'expanded_urls' has null value or duplicated urls in a row\n",
    "* Min and max numbers of the 'rating_numerator' and 'rating_denominator' are not correct\n",
    "* Many None or a/an in 'name'\n",
    "* 'doggo', 'floofer', 'pupper', 'puppo' contain too many None\n",
    "* Delete the data after 8/1/2017\n",
    "\n",
    "*image_predictions table*\n",
    "1. 'tweet_id' and 'img_num' is an int not a string\n",
    "2. The duplicates in 'jpg_url' column\n",
    "\n",
    "\n",
    "#### 整洁度 tidiness\n",
    "* Dog stage is in four different columns (doggo, floofer, pupper, puppo)\n",
    "* Three tables can be merged\n"
   ]
  },
  {
   "cell_type": "code",
   "execution_count": null,
   "metadata": {},
   "outputs": [],
   "source": [
    "twitter_archive.sample(30)"
   ]
  },
  {
   "cell_type": "code",
   "execution_count": 18,
   "metadata": {},
   "outputs": [
    {
     "name": "stdout",
     "output_type": "stream",
     "text": [
      "<class 'pandas.core.frame.DataFrame'>\n",
      "RangeIndex: 2356 entries, 0 to 2355\n",
      "Data columns (total 17 columns):\n",
      "tweet_id                      2356 non-null int64\n",
      "in_reply_to_status_id         78 non-null float64\n",
      "in_reply_to_user_id           78 non-null float64\n",
      "timestamp                     2356 non-null object\n",
      "source                        2356 non-null object\n",
      "text                          2356 non-null object\n",
      "retweeted_status_id           181 non-null float64\n",
      "retweeted_status_user_id      181 non-null float64\n",
      "retweeted_status_timestamp    181 non-null object\n",
      "expanded_urls                 2297 non-null object\n",
      "rating_numerator              2356 non-null int64\n",
      "rating_denominator            2356 non-null int64\n",
      "name                          2356 non-null object\n",
      "doggo                         2356 non-null object\n",
      "floofer                       2356 non-null object\n",
      "pupper                        2356 non-null object\n",
      "puppo                         2356 non-null object\n",
      "dtypes: float64(4), int64(3), object(10)\n",
      "memory usage: 313.0+ KB\n"
     ]
    }
   ],
   "source": [
    "twitter_archive.info()"
   ]
  },
  {
   "cell_type": "code",
   "execution_count": null,
   "metadata": {},
   "outputs": [],
   "source": [
    "twitter_archive.describe()"
   ]
  },
  {
   "cell_type": "code",
   "execution_count": null,
   "metadata": {},
   "outputs": [],
   "source": [
    "twitter_archive.sample(5)"
   ]
  },
  {
   "cell_type": "code",
   "execution_count": 4,
   "metadata": {},
   "outputs": [
    {
     "data": {
      "text/plain": [
       "None         745\n",
       "a             55\n",
       "Charlie       12\n",
       "Cooper        11\n",
       "Oliver        11\n",
       "Lucy          11\n",
       "Penny         10\n",
       "Tucker        10\n",
       "Lola          10\n",
       "Winston        9\n",
       "Bo             9\n",
       "the            8\n",
       "Sadie          8\n",
       "Toby           7\n",
       "an             7\n",
       "Daisy          7\n",
       "Buddy          7\n",
       "Bailey         7\n",
       "Jax            6\n",
       "Scout          6\n",
       "Koda           6\n",
       "Dave           6\n",
       "Rusty          6\n",
       "Jack           6\n",
       "Milo           6\n",
       "Bella          6\n",
       "Oscar          6\n",
       "Stanley        6\n",
       "Leo            6\n",
       "Finn           5\n",
       "            ... \n",
       "Maxwell        1\n",
       "Bookstore      1\n",
       "Grizzwald      1\n",
       "Gilbert        1\n",
       "Pavlov         1\n",
       "Glenn          1\n",
       "his            1\n",
       "General        1\n",
       "Rilo           1\n",
       "Moofasa        1\n",
       "Cuddles        1\n",
       "Glacier        1\n",
       "Edgar          1\n",
       "Duddles        1\n",
       "Buckley        1\n",
       "Mona           1\n",
       "Bodie          1\n",
       "Boots          1\n",
       "Mauve          1\n",
       "Terrenth       1\n",
       "Swagger        1\n",
       "Stewie         1\n",
       "Corey          1\n",
       "Ester          1\n",
       "Ralphie        1\n",
       "Travis         1\n",
       "Ralpher        1\n",
       "Taco           1\n",
       "Harnold        1\n",
       "Coleman        1\n",
       "Name: name, Length: 957, dtype: int64"
      ]
     },
     "execution_count": 4,
     "metadata": {},
     "output_type": "execute_result"
    }
   ],
   "source": [
    "twitter_archive['name'].value_counts()"
   ]
  },
  {
   "cell_type": "code",
   "execution_count": null,
   "metadata": {},
   "outputs": [],
   "source": [
    "image_predictions.info()"
   ]
  },
  {
   "cell_type": "code",
   "execution_count": null,
   "metadata": {},
   "outputs": [],
   "source": [
    "image_predictions.describe()"
   ]
  },
  {
   "cell_type": "code",
   "execution_count": null,
   "metadata": {},
   "outputs": [],
   "source": [
    "image_predictions.sample(10)"
   ]
  },
  {
   "cell_type": "code",
   "execution_count": null,
   "metadata": {},
   "outputs": [],
   "source": [
    "image_predictions[image_predictions.jpg_url.duplicated()]"
   ]
  },
  {
   "cell_type": "code",
   "execution_count": null,
   "metadata": {},
   "outputs": [],
   "source": [
    "tweet_extra_data.info()"
   ]
  },
  {
   "cell_type": "code",
   "execution_count": null,
   "metadata": {},
   "outputs": [],
   "source": [
    "tweet_extra_data.describe()"
   ]
  },
  {
   "cell_type": "code",
   "execution_count": null,
   "metadata": {},
   "outputs": [],
   "source": [
    "tweet_extra_data.sample(10)"
   ]
  },
  {
   "cell_type": "markdown",
   "metadata": {},
   "source": [
    "### 数据清理\n"
   ]
  },
  {
   "cell_type": "code",
   "execution_count": 63,
   "metadata": {},
   "outputs": [],
   "source": [
    "twitter_archive_clean = twitter_archive.copy()\n",
    "image_predictions_clean = image_predictions.copy()\n",
    "tweet_extra_data_clean = tweet_extra_data.copy()"
   ]
  },
  {
   "cell_type": "markdown",
   "metadata": {},
   "source": [
    "#### 缺失数据\n",
    "\n",
    "`twitter_archive`: \n",
    "* The columns 'in_reply_to_status_id', 'in_reply_to_user_id', 'retweeted_status_id', 'retweeted_status_user_id', 'retweeted_status_timestamp' have too much missing data. \n",
    "* The dataset doesn't need retweet contents"
   ]
  },
  {
   "cell_type": "markdown",
   "metadata": {},
   "source": [
    "###### 定义\n",
    "\n",
    "* Delete the columns 'in_reply_to_status_id', 'in_reply_to_user_id', 'retweeted_status_id', 'retweeted_status_user_id', 'retweeted_status_timestamp'\n",
    "* Delete the rows including the 'in_reply_to_status_id' and 'retweeted_status_user_id'\n",
    "\n",
    "###### 代码"
   ]
  },
  {
   "cell_type": "code",
   "execution_count": 64,
   "metadata": {},
   "outputs": [],
   "source": [
    "# Delete the rows including the 'in_reply_to_status_id' and 'retweeted_status_user_id'\n",
    "\n",
    "twitter_archive_clean = twitter_archive_clean[twitter_archive_clean['in_reply_to_status_id'].isnull()]\n",
    "twitter_archive_clean = twitter_archive_clean[twitter_archive_clean['retweeted_status_user_id'].isnull()]"
   ]
  },
  {
   "cell_type": "code",
   "execution_count": 65,
   "metadata": {},
   "outputs": [],
   "source": [
    "# Delete the columns 'in_reply_to_status_id', 'in_reply_to_user_id', 'retweeted_status_id', 'retweeted_status_user_id', 'retweeted_status_timestamp'\n",
    "\n",
    "twitter_archive_clean.drop(['in_reply_to_status_id', 'in_reply_to_user_id', 'retweeted_status_id', \n",
    "                            'retweeted_status_user_id', 'retweeted_status_timestamp'], axis=1, inplace=True)"
   ]
  },
  {
   "cell_type": "markdown",
   "metadata": {},
   "source": [
    "###### 测试"
   ]
  },
  {
   "cell_type": "code",
   "execution_count": 66,
   "metadata": {},
   "outputs": [
    {
     "data": {
      "text/html": [
       "<div>\n",
       "<style scoped>\n",
       "    .dataframe tbody tr th:only-of-type {\n",
       "        vertical-align: middle;\n",
       "    }\n",
       "\n",
       "    .dataframe tbody tr th {\n",
       "        vertical-align: top;\n",
       "    }\n",
       "\n",
       "    .dataframe thead th {\n",
       "        text-align: right;\n",
       "    }\n",
       "</style>\n",
       "<table border=\"1\" class=\"dataframe\">\n",
       "  <thead>\n",
       "    <tr style=\"text-align: right;\">\n",
       "      <th></th>\n",
       "      <th>tweet_id</th>\n",
       "      <th>timestamp</th>\n",
       "      <th>source</th>\n",
       "      <th>text</th>\n",
       "      <th>expanded_urls</th>\n",
       "      <th>rating_numerator</th>\n",
       "      <th>rating_denominator</th>\n",
       "      <th>name</th>\n",
       "      <th>doggo</th>\n",
       "      <th>floofer</th>\n",
       "      <th>pupper</th>\n",
       "      <th>puppo</th>\n",
       "    </tr>\n",
       "  </thead>\n",
       "  <tbody>\n",
       "    <tr>\n",
       "      <th>428</th>\n",
       "      <td>821149554670182400</td>\n",
       "      <td>2017-01-17 00:18:04 +0000</td>\n",
       "      <td>&lt;a href=\"http://twitter.com/download/iphone\" r...</td>\n",
       "      <td>This is Luca. He got caught howling. H*ckin em...</td>\n",
       "      <td>https://twitter.com/dog_rates/status/821149554...</td>\n",
       "      <td>12</td>\n",
       "      <td>10</td>\n",
       "      <td>Luca</td>\n",
       "      <td>None</td>\n",
       "      <td>None</td>\n",
       "      <td>None</td>\n",
       "      <td>None</td>\n",
       "    </tr>\n",
       "    <tr>\n",
       "      <th>284</th>\n",
       "      <td>838921590096166913</td>\n",
       "      <td>2017-03-07 01:17:48 +0000</td>\n",
       "      <td>&lt;a href=\"http://twitter.com/download/iphone\" r...</td>\n",
       "      <td>This is Arlo. He's officially the king of snow...</td>\n",
       "      <td>https://twitter.com/dog_rates/status/838921590...</td>\n",
       "      <td>13</td>\n",
       "      <td>10</td>\n",
       "      <td>Arlo</td>\n",
       "      <td>None</td>\n",
       "      <td>None</td>\n",
       "      <td>None</td>\n",
       "      <td>None</td>\n",
       "    </tr>\n",
       "    <tr>\n",
       "      <th>1861</th>\n",
       "      <td>675483430902214656</td>\n",
       "      <td>2015-12-12 01:12:54 +0000</td>\n",
       "      <td>&lt;a href=\"http://twitter.com/download/iphone\" r...</td>\n",
       "      <td>Rare shielded battle dog here. Very happy abou...</td>\n",
       "      <td>https://twitter.com/dog_rates/status/675483430...</td>\n",
       "      <td>5</td>\n",
       "      <td>10</td>\n",
       "      <td>None</td>\n",
       "      <td>None</td>\n",
       "      <td>None</td>\n",
       "      <td>None</td>\n",
       "      <td>None</td>\n",
       "    </tr>\n",
       "    <tr>\n",
       "      <th>1742</th>\n",
       "      <td>679462823135686656</td>\n",
       "      <td>2015-12-23 00:45:35 +0000</td>\n",
       "      <td>&lt;a href=\"http://twitter.com/download/iphone\" r...</td>\n",
       "      <td>Meet Hurley. He's the curly one. He hugs every...</td>\n",
       "      <td>https://twitter.com/dog_rates/status/679462823...</td>\n",
       "      <td>11</td>\n",
       "      <td>10</td>\n",
       "      <td>Hurley</td>\n",
       "      <td>None</td>\n",
       "      <td>None</td>\n",
       "      <td>None</td>\n",
       "      <td>None</td>\n",
       "    </tr>\n",
       "    <tr>\n",
       "      <th>813</th>\n",
       "      <td>771102124360998913</td>\n",
       "      <td>2016-08-31 21:47:27 +0000</td>\n",
       "      <td>&lt;a href=\"http://twitter.com/download/iphone\" r...</td>\n",
       "      <td>This is Charlie. He works for @TODAYshow. Supe...</td>\n",
       "      <td>https://twitter.com/dog_rates/status/771102124...</td>\n",
       "      <td>12</td>\n",
       "      <td>10</td>\n",
       "      <td>Charlie</td>\n",
       "      <td>None</td>\n",
       "      <td>None</td>\n",
       "      <td>None</td>\n",
       "      <td>None</td>\n",
       "    </tr>\n",
       "  </tbody>\n",
       "</table>\n",
       "</div>"
      ],
      "text/plain": [
       "                tweet_id                  timestamp  \\\n",
       "428   821149554670182400  2017-01-17 00:18:04 +0000   \n",
       "284   838921590096166913  2017-03-07 01:17:48 +0000   \n",
       "1861  675483430902214656  2015-12-12 01:12:54 +0000   \n",
       "1742  679462823135686656  2015-12-23 00:45:35 +0000   \n",
       "813   771102124360998913  2016-08-31 21:47:27 +0000   \n",
       "\n",
       "                                                 source  \\\n",
       "428   <a href=\"http://twitter.com/download/iphone\" r...   \n",
       "284   <a href=\"http://twitter.com/download/iphone\" r...   \n",
       "1861  <a href=\"http://twitter.com/download/iphone\" r...   \n",
       "1742  <a href=\"http://twitter.com/download/iphone\" r...   \n",
       "813   <a href=\"http://twitter.com/download/iphone\" r...   \n",
       "\n",
       "                                                   text  \\\n",
       "428   This is Luca. He got caught howling. H*ckin em...   \n",
       "284   This is Arlo. He's officially the king of snow...   \n",
       "1861  Rare shielded battle dog here. Very happy abou...   \n",
       "1742  Meet Hurley. He's the curly one. He hugs every...   \n",
       "813   This is Charlie. He works for @TODAYshow. Supe...   \n",
       "\n",
       "                                          expanded_urls  rating_numerator  \\\n",
       "428   https://twitter.com/dog_rates/status/821149554...                12   \n",
       "284   https://twitter.com/dog_rates/status/838921590...                13   \n",
       "1861  https://twitter.com/dog_rates/status/675483430...                 5   \n",
       "1742  https://twitter.com/dog_rates/status/679462823...                11   \n",
       "813   https://twitter.com/dog_rates/status/771102124...                12   \n",
       "\n",
       "      rating_denominator     name doggo floofer pupper puppo  \n",
       "428                   10     Luca  None    None   None  None  \n",
       "284                   10     Arlo  None    None   None  None  \n",
       "1861                  10     None  None    None   None  None  \n",
       "1742                  10   Hurley  None    None   None  None  \n",
       "813                   10  Charlie  None    None   None  None  "
      ]
     },
     "execution_count": 66,
     "metadata": {},
     "output_type": "execute_result"
    }
   ],
   "source": [
    "twitter_archive_clean.sample(5)"
   ]
  },
  {
   "cell_type": "code",
   "execution_count": null,
   "metadata": {},
   "outputs": [],
   "source": []
  },
  {
   "cell_type": "markdown",
   "metadata": {},
   "source": [
    "##### 整洁度\n",
    "\n",
    "\n",
    "`twitter_archive`:\n",
    "* Dog stage is in four different columns (doggo, floofer, pupper, puppo)\n",
    "\n",
    "###### 定义\n",
    "\n",
    "* Find the stage from the text\n",
    "* Delete the 'doggo', 'floofer', 'pupper', 'puppo' columns\n",
    "\n",
    "###### 代码"
   ]
  },
  {
   "cell_type": "code",
   "execution_count": 67,
   "metadata": {},
   "outputs": [],
   "source": [
    "# Find the stage from the text\n",
    "twitter_archive_clean['stage'] = twitter_archive_clean.text.str.lower().str.findall('(doggo|floofer|pupper|puppo)')\n",
    "\n",
    "# Transfer 'stage' list to string\n",
    "twitter_archive_clean['stage'] = twitter_archive_clean.stage.str.join('')\n",
    "\n",
    "# Delete the 'doggo', 'floofer', 'pupper', 'puppo' columns\n",
    "twitter_archive_clean.drop(['doggo', 'floofer', 'pupper', 'puppo'], axis=1, inplace=True)"
   ]
  },
  {
   "cell_type": "markdown",
   "metadata": {},
   "source": [
    "##### 测试"
   ]
  },
  {
   "cell_type": "code",
   "execution_count": 68,
   "metadata": {},
   "outputs": [
    {
     "data": {
      "text/html": [
       "<div>\n",
       "<style scoped>\n",
       "    .dataframe tbody tr th:only-of-type {\n",
       "        vertical-align: middle;\n",
       "    }\n",
       "\n",
       "    .dataframe tbody tr th {\n",
       "        vertical-align: top;\n",
       "    }\n",
       "\n",
       "    .dataframe thead th {\n",
       "        text-align: right;\n",
       "    }\n",
       "</style>\n",
       "<table border=\"1\" class=\"dataframe\">\n",
       "  <thead>\n",
       "    <tr style=\"text-align: right;\">\n",
       "      <th></th>\n",
       "      <th>tweet_id</th>\n",
       "      <th>timestamp</th>\n",
       "      <th>source</th>\n",
       "      <th>text</th>\n",
       "      <th>expanded_urls</th>\n",
       "      <th>rating_numerator</th>\n",
       "      <th>rating_denominator</th>\n",
       "      <th>name</th>\n",
       "      <th>stage</th>\n",
       "    </tr>\n",
       "  </thead>\n",
       "  <tbody>\n",
       "    <tr>\n",
       "      <th>1383</th>\n",
       "      <td>700847567345688576</td>\n",
       "      <td>2016-02-20 01:00:55 +0000</td>\n",
       "      <td>&lt;a href=\"http://twitter.com/download/iphone\" r...</td>\n",
       "      <td>Meet Crouton. He's a Galapagos Boonwiddle. Has...</td>\n",
       "      <td>https://twitter.com/dog_rates/status/700847567...</td>\n",
       "      <td>10</td>\n",
       "      <td>10</td>\n",
       "      <td>Crouton</td>\n",
       "      <td></td>\n",
       "    </tr>\n",
       "    <tr>\n",
       "      <th>2354</th>\n",
       "      <td>666029285002620928</td>\n",
       "      <td>2015-11-15 23:05:30 +0000</td>\n",
       "      <td>&lt;a href=\"http://twitter.com/download/iphone\" r...</td>\n",
       "      <td>This is a western brown Mitsubishi terrier. Up...</td>\n",
       "      <td>https://twitter.com/dog_rates/status/666029285...</td>\n",
       "      <td>7</td>\n",
       "      <td>10</td>\n",
       "      <td>a</td>\n",
       "      <td></td>\n",
       "    </tr>\n",
       "    <tr>\n",
       "      <th>1936</th>\n",
       "      <td>673956914389192708</td>\n",
       "      <td>2015-12-07 20:07:04 +0000</td>\n",
       "      <td>&lt;a href=\"http://twitter.com/download/iphone\" r...</td>\n",
       "      <td>This is one esteemed pupper. Just graduated co...</td>\n",
       "      <td>https://twitter.com/dog_rates/status/673956914...</td>\n",
       "      <td>10</td>\n",
       "      <td>10</td>\n",
       "      <td>one</td>\n",
       "      <td>pupper</td>\n",
       "    </tr>\n",
       "    <tr>\n",
       "      <th>1212</th>\n",
       "      <td>715342466308784130</td>\n",
       "      <td>2016-03-31 00:58:29 +0000</td>\n",
       "      <td>&lt;a href=\"http://twitter.com/download/iphone\" r...</td>\n",
       "      <td>This is Oscar. He's a world renowned snowball ...</td>\n",
       "      <td>https://twitter.com/dog_rates/status/715342466...</td>\n",
       "      <td>10</td>\n",
       "      <td>10</td>\n",
       "      <td>Oscar</td>\n",
       "      <td></td>\n",
       "    </tr>\n",
       "    <tr>\n",
       "      <th>196</th>\n",
       "      <td>854732716440526848</td>\n",
       "      <td>2017-04-19 16:25:34 +0000</td>\n",
       "      <td>&lt;a href=\"http://twitter.com/download/iphone\" r...</td>\n",
       "      <td>This is Marlee. She fetched a flower and immed...</td>\n",
       "      <td>https://twitter.com/dog_rates/status/854732716...</td>\n",
       "      <td>12</td>\n",
       "      <td>10</td>\n",
       "      <td>Marlee</td>\n",
       "      <td></td>\n",
       "    </tr>\n",
       "  </tbody>\n",
       "</table>\n",
       "</div>"
      ],
      "text/plain": [
       "                tweet_id                  timestamp  \\\n",
       "1383  700847567345688576  2016-02-20 01:00:55 +0000   \n",
       "2354  666029285002620928  2015-11-15 23:05:30 +0000   \n",
       "1936  673956914389192708  2015-12-07 20:07:04 +0000   \n",
       "1212  715342466308784130  2016-03-31 00:58:29 +0000   \n",
       "196   854732716440526848  2017-04-19 16:25:34 +0000   \n",
       "\n",
       "                                                 source  \\\n",
       "1383  <a href=\"http://twitter.com/download/iphone\" r...   \n",
       "2354  <a href=\"http://twitter.com/download/iphone\" r...   \n",
       "1936  <a href=\"http://twitter.com/download/iphone\" r...   \n",
       "1212  <a href=\"http://twitter.com/download/iphone\" r...   \n",
       "196   <a href=\"http://twitter.com/download/iphone\" r...   \n",
       "\n",
       "                                                   text  \\\n",
       "1383  Meet Crouton. He's a Galapagos Boonwiddle. Has...   \n",
       "2354  This is a western brown Mitsubishi terrier. Up...   \n",
       "1936  This is one esteemed pupper. Just graduated co...   \n",
       "1212  This is Oscar. He's a world renowned snowball ...   \n",
       "196   This is Marlee. She fetched a flower and immed...   \n",
       "\n",
       "                                          expanded_urls  rating_numerator  \\\n",
       "1383  https://twitter.com/dog_rates/status/700847567...                10   \n",
       "2354  https://twitter.com/dog_rates/status/666029285...                 7   \n",
       "1936  https://twitter.com/dog_rates/status/673956914...                10   \n",
       "1212  https://twitter.com/dog_rates/status/715342466...                10   \n",
       "196   https://twitter.com/dog_rates/status/854732716...                12   \n",
       "\n",
       "      rating_denominator     name   stage  \n",
       "1383                  10  Crouton          \n",
       "2354                  10        a          \n",
       "1936                  10      one  pupper  \n",
       "1212                  10    Oscar          \n",
       "196                   10   Marlee          "
      ]
     },
     "execution_count": 68,
     "metadata": {},
     "output_type": "execute_result"
    }
   ],
   "source": [
    "twitter_archive_clean.sample(5)"
   ]
  },
  {
   "cell_type": "markdown",
   "metadata": {},
   "source": [
    "##### merge three tables at the final step\n",
    "\n",
    "#### 质量\n",
    "\n",
    "`twitter_archive` & `image_predictions`:\n",
    "* 'tweet_id' is an int not a string\n",
    "\n",
    "###### 定义\n",
    "\n",
    "* Cover the 'tweet_id' column's data from float to a string\n",
    "\n",
    "###### 代码"
   ]
  },
  {
   "cell_type": "code",
   "execution_count": 69,
   "metadata": {},
   "outputs": [],
   "source": [
    "# Cover the 'tweet_id' column's data from float to a string\n",
    "twitter_archive_clean['tweet_id'] = twitter_archive_clean['tweet_id'].astype(str)\n",
    "image_predictions_clean['tweet_id'] = image_predictions_clean['tweet_id'].astype(str)\n"
   ]
  },
  {
   "cell_type": "markdown",
   "metadata": {},
   "source": [
    "##### 测试"
   ]
  },
  {
   "cell_type": "code",
   "execution_count": 70,
   "metadata": {},
   "outputs": [
    {
     "name": "stdout",
     "output_type": "stream",
     "text": [
      "<class 'pandas.core.frame.DataFrame'>\n",
      "Int64Index: 2097 entries, 0 to 2355\n",
      "Data columns (total 9 columns):\n",
      "tweet_id              2097 non-null object\n",
      "timestamp             2097 non-null object\n",
      "source                2097 non-null object\n",
      "text                  2097 non-null object\n",
      "expanded_urls         2094 non-null object\n",
      "rating_numerator      2097 non-null int64\n",
      "rating_denominator    2097 non-null int64\n",
      "name                  2097 non-null object\n",
      "stage                 2097 non-null object\n",
      "dtypes: int64(2), object(7)\n",
      "memory usage: 163.8+ KB\n"
     ]
    }
   ],
   "source": [
    "twitter_archive_clean.info()"
   ]
  },
  {
   "cell_type": "code",
   "execution_count": 71,
   "metadata": {},
   "outputs": [
    {
     "name": "stdout",
     "output_type": "stream",
     "text": [
      "<class 'pandas.core.frame.DataFrame'>\n",
      "RangeIndex: 2075 entries, 0 to 2074\n",
      "Data columns (total 12 columns):\n",
      "tweet_id    2075 non-null object\n",
      "jpg_url     2075 non-null object\n",
      "img_num     2075 non-null int64\n",
      "p1          2075 non-null object\n",
      "p1_conf     2075 non-null float64\n",
      "p1_dog      2075 non-null bool\n",
      "p2          2075 non-null object\n",
      "p2_conf     2075 non-null float64\n",
      "p2_dog      2075 non-null bool\n",
      "p3          2075 non-null object\n",
      "p3_conf     2075 non-null float64\n",
      "p3_dog      2075 non-null bool\n",
      "dtypes: bool(3), float64(3), int64(1), object(5)\n",
      "memory usage: 152.1+ KB\n"
     ]
    }
   ],
   "source": [
    "image_predictions_clean.info()"
   ]
  },
  {
   "cell_type": "markdown",
   "metadata": {},
   "source": [
    "`twitter_archive`:\n",
    "* 'timestamp' is a string not a datatype\n",
    "\n",
    "\n",
    "##### 定义\n",
    "* Slice the 'timestamp' without +0000\n",
    "* Cover the 'timestamp' column's data from string to datatime\n",
    "\n",
    "##### 代码"
   ]
  },
  {
   "cell_type": "code",
   "execution_count": 72,
   "metadata": {},
   "outputs": [],
   "source": [
    "# Slice the 'timestamp' without +0000\n",
    "# Cover the 'timestamp' column's data from string to datatime\n",
    "twitter_archive_clean.timestamp = pd.to_datetime(twitter_archive_clean.timestamp[:-6])"
   ]
  },
  {
   "cell_type": "markdown",
   "metadata": {},
   "source": [
    "##### 测试"
   ]
  },
  {
   "cell_type": "code",
   "execution_count": 73,
   "metadata": {},
   "outputs": [
    {
     "data": {
      "text/html": [
       "<div>\n",
       "<style scoped>\n",
       "    .dataframe tbody tr th:only-of-type {\n",
       "        vertical-align: middle;\n",
       "    }\n",
       "\n",
       "    .dataframe tbody tr th {\n",
       "        vertical-align: top;\n",
       "    }\n",
       "\n",
       "    .dataframe thead th {\n",
       "        text-align: right;\n",
       "    }\n",
       "</style>\n",
       "<table border=\"1\" class=\"dataframe\">\n",
       "  <thead>\n",
       "    <tr style=\"text-align: right;\">\n",
       "      <th></th>\n",
       "      <th>tweet_id</th>\n",
       "      <th>timestamp</th>\n",
       "      <th>source</th>\n",
       "      <th>text</th>\n",
       "      <th>expanded_urls</th>\n",
       "      <th>rating_numerator</th>\n",
       "      <th>rating_denominator</th>\n",
       "      <th>name</th>\n",
       "      <th>stage</th>\n",
       "    </tr>\n",
       "  </thead>\n",
       "  <tbody>\n",
       "    <tr>\n",
       "      <th>0</th>\n",
       "      <td>892420643555336193</td>\n",
       "      <td>2017-08-01 16:23:56</td>\n",
       "      <td>&lt;a href=\"http://twitter.com/download/iphone\" r...</td>\n",
       "      <td>This is Phineas. He's a mystical boy. Only eve...</td>\n",
       "      <td>https://twitter.com/dog_rates/status/892420643...</td>\n",
       "      <td>13</td>\n",
       "      <td>10</td>\n",
       "      <td>Phineas</td>\n",
       "      <td></td>\n",
       "    </tr>\n",
       "    <tr>\n",
       "      <th>1</th>\n",
       "      <td>892177421306343426</td>\n",
       "      <td>2017-08-01 00:17:27</td>\n",
       "      <td>&lt;a href=\"http://twitter.com/download/iphone\" r...</td>\n",
       "      <td>This is Tilly. She's just checking pup on you....</td>\n",
       "      <td>https://twitter.com/dog_rates/status/892177421...</td>\n",
       "      <td>13</td>\n",
       "      <td>10</td>\n",
       "      <td>Tilly</td>\n",
       "      <td></td>\n",
       "    </tr>\n",
       "    <tr>\n",
       "      <th>2</th>\n",
       "      <td>891815181378084864</td>\n",
       "      <td>2017-07-31 00:18:03</td>\n",
       "      <td>&lt;a href=\"http://twitter.com/download/iphone\" r...</td>\n",
       "      <td>This is Archie. He is a rare Norwegian Pouncin...</td>\n",
       "      <td>https://twitter.com/dog_rates/status/891815181...</td>\n",
       "      <td>12</td>\n",
       "      <td>10</td>\n",
       "      <td>Archie</td>\n",
       "      <td></td>\n",
       "    </tr>\n",
       "    <tr>\n",
       "      <th>3</th>\n",
       "      <td>891689557279858688</td>\n",
       "      <td>2017-07-30 15:58:51</td>\n",
       "      <td>&lt;a href=\"http://twitter.com/download/iphone\" r...</td>\n",
       "      <td>This is Darla. She commenced a snooze mid meal...</td>\n",
       "      <td>https://twitter.com/dog_rates/status/891689557...</td>\n",
       "      <td>13</td>\n",
       "      <td>10</td>\n",
       "      <td>Darla</td>\n",
       "      <td></td>\n",
       "    </tr>\n",
       "    <tr>\n",
       "      <th>4</th>\n",
       "      <td>891327558926688256</td>\n",
       "      <td>2017-07-29 16:00:24</td>\n",
       "      <td>&lt;a href=\"http://twitter.com/download/iphone\" r...</td>\n",
       "      <td>This is Franklin. He would like you to stop ca...</td>\n",
       "      <td>https://twitter.com/dog_rates/status/891327558...</td>\n",
       "      <td>12</td>\n",
       "      <td>10</td>\n",
       "      <td>Franklin</td>\n",
       "      <td></td>\n",
       "    </tr>\n",
       "  </tbody>\n",
       "</table>\n",
       "</div>"
      ],
      "text/plain": [
       "             tweet_id           timestamp  \\\n",
       "0  892420643555336193 2017-08-01 16:23:56   \n",
       "1  892177421306343426 2017-08-01 00:17:27   \n",
       "2  891815181378084864 2017-07-31 00:18:03   \n",
       "3  891689557279858688 2017-07-30 15:58:51   \n",
       "4  891327558926688256 2017-07-29 16:00:24   \n",
       "\n",
       "                                              source  \\\n",
       "0  <a href=\"http://twitter.com/download/iphone\" r...   \n",
       "1  <a href=\"http://twitter.com/download/iphone\" r...   \n",
       "2  <a href=\"http://twitter.com/download/iphone\" r...   \n",
       "3  <a href=\"http://twitter.com/download/iphone\" r...   \n",
       "4  <a href=\"http://twitter.com/download/iphone\" r...   \n",
       "\n",
       "                                                text  \\\n",
       "0  This is Phineas. He's a mystical boy. Only eve...   \n",
       "1  This is Tilly. She's just checking pup on you....   \n",
       "2  This is Archie. He is a rare Norwegian Pouncin...   \n",
       "3  This is Darla. She commenced a snooze mid meal...   \n",
       "4  This is Franklin. He would like you to stop ca...   \n",
       "\n",
       "                                       expanded_urls  rating_numerator  \\\n",
       "0  https://twitter.com/dog_rates/status/892420643...                13   \n",
       "1  https://twitter.com/dog_rates/status/892177421...                13   \n",
       "2  https://twitter.com/dog_rates/status/891815181...                12   \n",
       "3  https://twitter.com/dog_rates/status/891689557...                13   \n",
       "4  https://twitter.com/dog_rates/status/891327558...                12   \n",
       "\n",
       "   rating_denominator      name stage  \n",
       "0                  10   Phineas        \n",
       "1                  10     Tilly        \n",
       "2                  10    Archie        \n",
       "3                  10     Darla        \n",
       "4                  10  Franklin        "
      ]
     },
     "execution_count": 73,
     "metadata": {},
     "output_type": "execute_result"
    }
   ],
   "source": [
    "twitter_archive_clean.head()"
   ]
  },
  {
   "cell_type": "code",
   "execution_count": 74,
   "metadata": {},
   "outputs": [
    {
     "name": "stdout",
     "output_type": "stream",
     "text": [
      "<class 'pandas.core.frame.DataFrame'>\n",
      "Int64Index: 2097 entries, 0 to 2355\n",
      "Data columns (total 9 columns):\n",
      "tweet_id              2097 non-null object\n",
      "timestamp             2091 non-null datetime64[ns]\n",
      "source                2097 non-null object\n",
      "text                  2097 non-null object\n",
      "expanded_urls         2094 non-null object\n",
      "rating_numerator      2097 non-null int64\n",
      "rating_denominator    2097 non-null int64\n",
      "name                  2097 non-null object\n",
      "stage                 2097 non-null object\n",
      "dtypes: datetime64[ns](1), int64(2), object(6)\n",
      "memory usage: 163.8+ KB\n"
     ]
    }
   ],
   "source": [
    "twitter_archive_clean.info()"
   ]
  },
  {
   "cell_type": "markdown",
   "metadata": {},
   "source": [
    "`twitter_archive`:\n",
    "* 'source' includes useless infomation such like http link\n",
    "\n",
    "##### 定义\n",
    "* Just cut out the info of where the source comes, such like Twitter for iPhone, Twitter Web Client and Vine - Make a Scene\n",
    "\n",
    "##### 代码"
   ]
  },
  {
   "cell_type": "code",
   "execution_count": null,
   "metadata": {},
   "outputs": [],
   "source": [
    "twitter_archive_clean['source'] = twitter_archive_clean.source"
   ]
  }
 ],
 "metadata": {
  "kernelspec": {
   "display_name": "Python 3",
   "language": "python",
   "name": "python3"
  },
  "language_info": {
   "codemirror_mode": {
    "name": "ipython",
    "version": 3
   },
   "file_extension": ".py",
   "mimetype": "text/x-python",
   "name": "python",
   "nbconvert_exporter": "python",
   "pygments_lexer": "ipython3",
   "version": "3.6.5"
  }
 },
 "nbformat": 4,
 "nbformat_minor": 2
}
