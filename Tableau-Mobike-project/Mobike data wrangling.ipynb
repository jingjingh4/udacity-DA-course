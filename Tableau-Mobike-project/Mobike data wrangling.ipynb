{
 "cells": [
  {
   "cell_type": "code",
   "execution_count": 55,
   "metadata": {},
   "outputs": [],
   "source": [
    "import os\n",
    "import pandas as pd\n",
    "import numpy as np\n",
    "from math import sin, asin, cos, radians, fabs, sqrt\n",
    "import datetime\n",
    "import geocoder\n",
    "import re"
   ]
  },
  {
   "cell_type": "code",
   "execution_count": 4,
   "metadata": {
    "scrolled": true
   },
   "outputs": [],
   "source": [
    "# 数据加载\n",
    "mobike = pd.read_csv('mobike_shanghai_sample_updated.csv')"
   ]
  },
  {
   "cell_type": "markdown",
   "metadata": {},
   "source": [
    "### 数据评估\n",
    "\n",
    "#### 质量\n",
    "* start_time和end_time数据类型不是datetime  \n",
    "\n",
    "#### 清洁度\n",
    "* track应该拆分成多个经纬度\n"
   ]
  },
  {
   "cell_type": "code",
   "execution_count": 5,
   "metadata": {},
   "outputs": [
    {
     "data": {
      "text/html": [
       "<div>\n",
       "<style scoped>\n",
       "    .dataframe tbody tr th:only-of-type {\n",
       "        vertical-align: middle;\n",
       "    }\n",
       "\n",
       "    .dataframe tbody tr th {\n",
       "        vertical-align: top;\n",
       "    }\n",
       "\n",
       "    .dataframe thead th {\n",
       "        text-align: right;\n",
       "    }\n",
       "</style>\n",
       "<table border=\"1\" class=\"dataframe\">\n",
       "  <thead>\n",
       "    <tr style=\"text-align: right;\">\n",
       "      <th></th>\n",
       "      <th>orderid</th>\n",
       "      <th>bikeid</th>\n",
       "      <th>userid</th>\n",
       "      <th>start_time</th>\n",
       "      <th>start_location_x</th>\n",
       "      <th>start_location_y</th>\n",
       "      <th>end_time</th>\n",
       "      <th>end_location_x</th>\n",
       "      <th>end_location_y</th>\n",
       "      <th>track</th>\n",
       "    </tr>\n",
       "  </thead>\n",
       "  <tbody>\n",
       "    <tr>\n",
       "      <th>0</th>\n",
       "      <td>78387</td>\n",
       "      <td>158357</td>\n",
       "      <td>10080</td>\n",
       "      <td>2016-08-20 06:57</td>\n",
       "      <td>121.348</td>\n",
       "      <td>31.389</td>\n",
       "      <td>2016-08-20 07:04</td>\n",
       "      <td>121.357</td>\n",
       "      <td>31.388</td>\n",
       "      <td>121.347,31.392#121.348,31.389#121.349,31.390#1...</td>\n",
       "    </tr>\n",
       "    <tr>\n",
       "      <th>1</th>\n",
       "      <td>891333</td>\n",
       "      <td>92776</td>\n",
       "      <td>6605</td>\n",
       "      <td>2016-08-29 19:09</td>\n",
       "      <td>121.508</td>\n",
       "      <td>31.279</td>\n",
       "      <td>2016-08-29 19:31</td>\n",
       "      <td>121.489</td>\n",
       "      <td>31.271</td>\n",
       "      <td>121.489,31.270#121.489,31.271#121.490,31.270#1...</td>\n",
       "    </tr>\n",
       "    <tr>\n",
       "      <th>2</th>\n",
       "      <td>1106623</td>\n",
       "      <td>152045</td>\n",
       "      <td>8876</td>\n",
       "      <td>2016-08-13 16:17</td>\n",
       "      <td>121.383</td>\n",
       "      <td>31.254</td>\n",
       "      <td>2016-08-13 16:36</td>\n",
       "      <td>121.405</td>\n",
       "      <td>31.248</td>\n",
       "      <td>121.381,31.251#121.382,31.251#121.382,31.252#1...</td>\n",
       "    </tr>\n",
       "    <tr>\n",
       "      <th>3</th>\n",
       "      <td>1389484</td>\n",
       "      <td>196259</td>\n",
       "      <td>10648</td>\n",
       "      <td>2016-08-23 21:34</td>\n",
       "      <td>121.484</td>\n",
       "      <td>31.320</td>\n",
       "      <td>2016-08-23 21:43</td>\n",
       "      <td>121.471</td>\n",
       "      <td>31.325</td>\n",
       "      <td>121.471,31.325#121.472,31.325#121.473,31.324#1...</td>\n",
       "    </tr>\n",
       "    <tr>\n",
       "      <th>4</th>\n",
       "      <td>188537</td>\n",
       "      <td>78208</td>\n",
       "      <td>11735</td>\n",
       "      <td>2016-08-16 07:32</td>\n",
       "      <td>121.407</td>\n",
       "      <td>31.292</td>\n",
       "      <td>2016-08-16 07:41</td>\n",
       "      <td>121.418</td>\n",
       "      <td>31.288</td>\n",
       "      <td>121.407,31.291#121.407,31.292#121.408,31.291#1...</td>\n",
       "    </tr>\n",
       "  </tbody>\n",
       "</table>\n",
       "</div>"
      ],
      "text/plain": [
       "   orderid  bikeid  userid        start_time  start_location_x  \\\n",
       "0    78387  158357   10080  2016-08-20 06:57           121.348   \n",
       "1   891333   92776    6605  2016-08-29 19:09           121.508   \n",
       "2  1106623  152045    8876  2016-08-13 16:17           121.383   \n",
       "3  1389484  196259   10648  2016-08-23 21:34           121.484   \n",
       "4   188537   78208   11735  2016-08-16 07:32           121.407   \n",
       "\n",
       "   start_location_y          end_time  end_location_x  end_location_y  \\\n",
       "0            31.389  2016-08-20 07:04         121.357          31.388   \n",
       "1            31.279  2016-08-29 19:31         121.489          31.271   \n",
       "2            31.254  2016-08-13 16:36         121.405          31.248   \n",
       "3            31.320  2016-08-23 21:43         121.471          31.325   \n",
       "4            31.292  2016-08-16 07:41         121.418          31.288   \n",
       "\n",
       "                                               track  \n",
       "0  121.347,31.392#121.348,31.389#121.349,31.390#1...  \n",
       "1  121.489,31.270#121.489,31.271#121.490,31.270#1...  \n",
       "2  121.381,31.251#121.382,31.251#121.382,31.252#1...  \n",
       "3  121.471,31.325#121.472,31.325#121.473,31.324#1...  \n",
       "4  121.407,31.291#121.407,31.292#121.408,31.291#1...  "
      ]
     },
     "execution_count": 5,
     "metadata": {},
     "output_type": "execute_result"
    }
   ],
   "source": [
    "mobike.head()"
   ]
  },
  {
   "cell_type": "code",
   "execution_count": 6,
   "metadata": {},
   "outputs": [
    {
     "name": "stdout",
     "output_type": "stream",
     "text": [
      "<class 'pandas.core.frame.DataFrame'>\n",
      "RangeIndex: 102361 entries, 0 to 102360\n",
      "Data columns (total 10 columns):\n",
      "orderid             102361 non-null int64\n",
      "bikeid              102361 non-null int64\n",
      "userid              102361 non-null int64\n",
      "start_time          102361 non-null object\n",
      "start_location_x    102361 non-null float64\n",
      "start_location_y    102361 non-null float64\n",
      "end_time            102361 non-null object\n",
      "end_location_x      102361 non-null float64\n",
      "end_location_y      102361 non-null float64\n",
      "track               102361 non-null object\n",
      "dtypes: float64(4), int64(3), object(3)\n",
      "memory usage: 7.8+ MB\n"
     ]
    }
   ],
   "source": [
    "mobike.info()"
   ]
  },
  {
   "cell_type": "code",
   "execution_count": 7,
   "metadata": {},
   "outputs": [
    {
     "data": {
      "text/plain": [
       "False    102361\n",
       "dtype: int64"
      ]
     },
     "execution_count": 7,
     "metadata": {},
     "output_type": "execute_result"
    }
   ],
   "source": [
    "# 查看是否有重复数据\n",
    "mobike.duplicated().value_counts()"
   ]
  },
  {
   "cell_type": "markdown",
   "metadata": {},
   "source": [
    "### 数据清理"
   ]
  },
  {
   "cell_type": "code",
   "execution_count": 8,
   "metadata": {},
   "outputs": [],
   "source": [
    "mobike_clean = mobike.copy()"
   ]
  },
  {
   "cell_type": "code",
   "execution_count": 9,
   "metadata": {},
   "outputs": [],
   "source": [
    "# 去除空值以防error\n",
    "mobike_clean.dropna(inplace = True) "
   ]
  },
  {
   "cell_type": "markdown",
   "metadata": {},
   "source": [
    "#### 质量\n",
    "* 修改start_time和end_time数据类型为datetime  "
   ]
  },
  {
   "cell_type": "code",
   "execution_count": 10,
   "metadata": {},
   "outputs": [],
   "source": [
    "# 修改start_time和end_time数据类型为date\n",
    "mobike_clean['start_time'] = pd.to_datetime(mobike_clean['start_time'])\n",
    "mobike_clean['end_time'] = pd.to_datetime(mobike_clean['end_time'])"
   ]
  },
  {
   "cell_type": "code",
   "execution_count": 11,
   "metadata": {},
   "outputs": [
    {
     "name": "stdout",
     "output_type": "stream",
     "text": [
      "<class 'pandas.core.frame.DataFrame'>\n",
      "Int64Index: 102361 entries, 0 to 102360\n",
      "Data columns (total 10 columns):\n",
      "orderid             102361 non-null int64\n",
      "bikeid              102361 non-null int64\n",
      "userid              102361 non-null int64\n",
      "start_time          102361 non-null datetime64[ns]\n",
      "start_location_x    102361 non-null float64\n",
      "start_location_y    102361 non-null float64\n",
      "end_time            102361 non-null datetime64[ns]\n",
      "end_location_x      102361 non-null float64\n",
      "end_location_y      102361 non-null float64\n",
      "track               102361 non-null object\n",
      "dtypes: datetime64[ns](2), float64(4), int64(3), object(1)\n",
      "memory usage: 8.6+ MB\n"
     ]
    }
   ],
   "source": [
    "mobike_clean.info()"
   ]
  },
  {
   "cell_type": "code",
   "execution_count": 12,
   "metadata": {},
   "outputs": [],
   "source": [
    "# 添加行程时间 (结束时间 - 开始时间)\n",
    "mobike_clean['diff_mins'] = mobike_clean['end_time'] - mobike_clean['start_time']\n",
    "mobike_clean['diff_mins'] = mobike_clean['diff_mins']/np.timedelta64(1,'m')\n",
    "mobike_clean['diff_mins'] = mobike_clean['diff_mins'].astype(int)"
   ]
  },
  {
   "cell_type": "markdown",
   "metadata": {},
   "source": [
    "#### 整洁度\n",
    "* 用split把track以`#`分割开\n",
    "* 把每个轨迹点再拆分成经纬度，形成新的数据集"
   ]
  },
  {
   "cell_type": "code",
   "execution_count": 13,
   "metadata": {},
   "outputs": [],
   "source": [
    "# 把轨迹track以#分开\n",
    "mobike_clean['location'] = mobike_clean['track'].str.split('#')"
   ]
  },
  {
   "cell_type": "code",
   "execution_count": 14,
   "metadata": {},
   "outputs": [],
   "source": [
    "# 把每个轨迹点拆分成经纬度，形成新的数据集\n",
    "\n",
    "orderid_list = []\n",
    "location_x = []\n",
    "location_y = []\n",
    "\n",
    "for index in mobike_clean.index:\n",
    "    for element in mobike_clean['location'].loc[index]:\n",
    "        x, y = element.split(',')\n",
    "        orderid_list.append(mobike_clean['orderid'].loc[index])\n",
    "        location_x.append(x)\n",
    "        location_y.append(y)\n",
    "        \n",
    "track_data = pd.DataFrame({'orderid': orderid_list, 'location_x': location_x, 'location_y': location_y})"
   ]
  },
  {
   "cell_type": "code",
   "execution_count": 15,
   "metadata": {},
   "outputs": [
    {
     "ename": "ValueError",
     "evalue": "could not convert string to float: '31.29\\\\'",
     "output_type": "error",
     "traceback": [
      "\u001b[0;31m---------------------------------------------------------------------------\u001b[0m",
      "\u001b[0;31mValueError\u001b[0m                                Traceback (most recent call last)",
      "\u001b[0;32m<ipython-input-15-e1f34b7d8b10>\u001b[0m in \u001b[0;36m<module>\u001b[0;34m()\u001b[0m\n\u001b[1;32m      1\u001b[0m \u001b[0;31m# 把经纬度都变成小数类型\u001b[0m\u001b[0;34m\u001b[0m\u001b[0;34m\u001b[0m\u001b[0m\n\u001b[1;32m      2\u001b[0m \u001b[0mtrack_data\u001b[0m\u001b[0;34m.\u001b[0m\u001b[0mlocation_x\u001b[0m \u001b[0;34m=\u001b[0m \u001b[0mtrack_data\u001b[0m\u001b[0;34m.\u001b[0m\u001b[0mlocation_x\u001b[0m\u001b[0;34m.\u001b[0m\u001b[0mastype\u001b[0m\u001b[0;34m(\u001b[0m\u001b[0mfloat\u001b[0m\u001b[0;34m)\u001b[0m\u001b[0;34m\u001b[0m\u001b[0m\n\u001b[0;32m----> 3\u001b[0;31m \u001b[0mtrack_data\u001b[0m\u001b[0;34m.\u001b[0m\u001b[0mlocation_y\u001b[0m \u001b[0;34m=\u001b[0m \u001b[0mtrack_data\u001b[0m\u001b[0;34m.\u001b[0m\u001b[0mlocation_y\u001b[0m\u001b[0;34m.\u001b[0m\u001b[0mastype\u001b[0m\u001b[0;34m(\u001b[0m\u001b[0mfloat\u001b[0m\u001b[0;34m)\u001b[0m\u001b[0;34m\u001b[0m\u001b[0m\n\u001b[0m",
      "\u001b[0;32m~/anaconda3/lib/python3.6/site-packages/pandas/util/_decorators.py\u001b[0m in \u001b[0;36mwrapper\u001b[0;34m(*args, **kwargs)\u001b[0m\n\u001b[1;32m    175\u001b[0m                 \u001b[0;32melse\u001b[0m\u001b[0;34m:\u001b[0m\u001b[0;34m\u001b[0m\u001b[0m\n\u001b[1;32m    176\u001b[0m                     \u001b[0mkwargs\u001b[0m\u001b[0;34m[\u001b[0m\u001b[0mnew_arg_name\u001b[0m\u001b[0;34m]\u001b[0m \u001b[0;34m=\u001b[0m \u001b[0mnew_arg_value\u001b[0m\u001b[0;34m\u001b[0m\u001b[0m\n\u001b[0;32m--> 177\u001b[0;31m             \u001b[0;32mreturn\u001b[0m \u001b[0mfunc\u001b[0m\u001b[0;34m(\u001b[0m\u001b[0;34m*\u001b[0m\u001b[0margs\u001b[0m\u001b[0;34m,\u001b[0m \u001b[0;34m**\u001b[0m\u001b[0mkwargs\u001b[0m\u001b[0;34m)\u001b[0m\u001b[0;34m\u001b[0m\u001b[0m\n\u001b[0m\u001b[1;32m    178\u001b[0m         \u001b[0;32mreturn\u001b[0m \u001b[0mwrapper\u001b[0m\u001b[0;34m\u001b[0m\u001b[0m\n\u001b[1;32m    179\u001b[0m     \u001b[0;32mreturn\u001b[0m \u001b[0m_deprecate_kwarg\u001b[0m\u001b[0;34m\u001b[0m\u001b[0m\n",
      "\u001b[0;32m~/anaconda3/lib/python3.6/site-packages/pandas/core/generic.py\u001b[0m in \u001b[0;36mastype\u001b[0;34m(self, dtype, copy, errors, **kwargs)\u001b[0m\n\u001b[1;32m   4995\u001b[0m             \u001b[0;31m# else, only a single dtype is given\u001b[0m\u001b[0;34m\u001b[0m\u001b[0;34m\u001b[0m\u001b[0m\n\u001b[1;32m   4996\u001b[0m             new_data = self._data.astype(dtype=dtype, copy=copy, errors=errors,\n\u001b[0;32m-> 4997\u001b[0;31m                                          **kwargs)\n\u001b[0m\u001b[1;32m   4998\u001b[0m             \u001b[0;32mreturn\u001b[0m \u001b[0mself\u001b[0m\u001b[0;34m.\u001b[0m\u001b[0m_constructor\u001b[0m\u001b[0;34m(\u001b[0m\u001b[0mnew_data\u001b[0m\u001b[0;34m)\u001b[0m\u001b[0;34m.\u001b[0m\u001b[0m__finalize__\u001b[0m\u001b[0;34m(\u001b[0m\u001b[0mself\u001b[0m\u001b[0;34m)\u001b[0m\u001b[0;34m\u001b[0m\u001b[0m\n\u001b[1;32m   4999\u001b[0m \u001b[0;34m\u001b[0m\u001b[0m\n",
      "\u001b[0;32m~/anaconda3/lib/python3.6/site-packages/pandas/core/internals.py\u001b[0m in \u001b[0;36mastype\u001b[0;34m(self, dtype, **kwargs)\u001b[0m\n\u001b[1;32m   3712\u001b[0m \u001b[0;34m\u001b[0m\u001b[0m\n\u001b[1;32m   3713\u001b[0m     \u001b[0;32mdef\u001b[0m \u001b[0mastype\u001b[0m\u001b[0;34m(\u001b[0m\u001b[0mself\u001b[0m\u001b[0;34m,\u001b[0m \u001b[0mdtype\u001b[0m\u001b[0;34m,\u001b[0m \u001b[0;34m**\u001b[0m\u001b[0mkwargs\u001b[0m\u001b[0;34m)\u001b[0m\u001b[0;34m:\u001b[0m\u001b[0;34m\u001b[0m\u001b[0m\n\u001b[0;32m-> 3714\u001b[0;31m         \u001b[0;32mreturn\u001b[0m \u001b[0mself\u001b[0m\u001b[0;34m.\u001b[0m\u001b[0mapply\u001b[0m\u001b[0;34m(\u001b[0m\u001b[0;34m'astype'\u001b[0m\u001b[0;34m,\u001b[0m \u001b[0mdtype\u001b[0m\u001b[0;34m=\u001b[0m\u001b[0mdtype\u001b[0m\u001b[0;34m,\u001b[0m \u001b[0;34m**\u001b[0m\u001b[0mkwargs\u001b[0m\u001b[0;34m)\u001b[0m\u001b[0;34m\u001b[0m\u001b[0m\n\u001b[0m\u001b[1;32m   3715\u001b[0m \u001b[0;34m\u001b[0m\u001b[0m\n\u001b[1;32m   3716\u001b[0m     \u001b[0;32mdef\u001b[0m \u001b[0mconvert\u001b[0m\u001b[0;34m(\u001b[0m\u001b[0mself\u001b[0m\u001b[0;34m,\u001b[0m \u001b[0;34m**\u001b[0m\u001b[0mkwargs\u001b[0m\u001b[0;34m)\u001b[0m\u001b[0;34m:\u001b[0m\u001b[0;34m\u001b[0m\u001b[0m\n",
      "\u001b[0;32m~/anaconda3/lib/python3.6/site-packages/pandas/core/internals.py\u001b[0m in \u001b[0;36mapply\u001b[0;34m(self, f, axes, filter, do_integrity_check, consolidate, **kwargs)\u001b[0m\n\u001b[1;32m   3579\u001b[0m \u001b[0;34m\u001b[0m\u001b[0m\n\u001b[1;32m   3580\u001b[0m             \u001b[0mkwargs\u001b[0m\u001b[0;34m[\u001b[0m\u001b[0;34m'mgr'\u001b[0m\u001b[0;34m]\u001b[0m \u001b[0;34m=\u001b[0m \u001b[0mself\u001b[0m\u001b[0;34m\u001b[0m\u001b[0m\n\u001b[0;32m-> 3581\u001b[0;31m             \u001b[0mapplied\u001b[0m \u001b[0;34m=\u001b[0m \u001b[0mgetattr\u001b[0m\u001b[0;34m(\u001b[0m\u001b[0mb\u001b[0m\u001b[0;34m,\u001b[0m \u001b[0mf\u001b[0m\u001b[0;34m)\u001b[0m\u001b[0;34m(\u001b[0m\u001b[0;34m**\u001b[0m\u001b[0mkwargs\u001b[0m\u001b[0;34m)\u001b[0m\u001b[0;34m\u001b[0m\u001b[0m\n\u001b[0m\u001b[1;32m   3582\u001b[0m             \u001b[0mresult_blocks\u001b[0m \u001b[0;34m=\u001b[0m \u001b[0m_extend_blocks\u001b[0m\u001b[0;34m(\u001b[0m\u001b[0mapplied\u001b[0m\u001b[0;34m,\u001b[0m \u001b[0mresult_blocks\u001b[0m\u001b[0;34m)\u001b[0m\u001b[0;34m\u001b[0m\u001b[0m\n\u001b[1;32m   3583\u001b[0m \u001b[0;34m\u001b[0m\u001b[0m\n",
      "\u001b[0;32m~/anaconda3/lib/python3.6/site-packages/pandas/core/internals.py\u001b[0m in \u001b[0;36mastype\u001b[0;34m(self, dtype, copy, errors, values, **kwargs)\u001b[0m\n\u001b[1;32m    573\u001b[0m     \u001b[0;32mdef\u001b[0m \u001b[0mastype\u001b[0m\u001b[0;34m(\u001b[0m\u001b[0mself\u001b[0m\u001b[0;34m,\u001b[0m \u001b[0mdtype\u001b[0m\u001b[0;34m,\u001b[0m \u001b[0mcopy\u001b[0m\u001b[0;34m=\u001b[0m\u001b[0;32mFalse\u001b[0m\u001b[0;34m,\u001b[0m \u001b[0merrors\u001b[0m\u001b[0;34m=\u001b[0m\u001b[0;34m'raise'\u001b[0m\u001b[0;34m,\u001b[0m \u001b[0mvalues\u001b[0m\u001b[0;34m=\u001b[0m\u001b[0;32mNone\u001b[0m\u001b[0;34m,\u001b[0m \u001b[0;34m**\u001b[0m\u001b[0mkwargs\u001b[0m\u001b[0;34m)\u001b[0m\u001b[0;34m:\u001b[0m\u001b[0;34m\u001b[0m\u001b[0m\n\u001b[1;32m    574\u001b[0m         return self._astype(dtype, copy=copy, errors=errors, values=values,\n\u001b[0;32m--> 575\u001b[0;31m                             **kwargs)\n\u001b[0m\u001b[1;32m    576\u001b[0m \u001b[0;34m\u001b[0m\u001b[0m\n\u001b[1;32m    577\u001b[0m     def _astype(self, dtype, copy=False, errors='raise', values=None,\n",
      "\u001b[0;32m~/anaconda3/lib/python3.6/site-packages/pandas/core/internals.py\u001b[0m in \u001b[0;36m_astype\u001b[0;34m(self, dtype, copy, errors, values, klass, mgr, **kwargs)\u001b[0m\n\u001b[1;32m    662\u001b[0m \u001b[0;34m\u001b[0m\u001b[0m\n\u001b[1;32m    663\u001b[0m                 \u001b[0;31m# _astype_nansafe works fine with 1-d only\u001b[0m\u001b[0;34m\u001b[0m\u001b[0;34m\u001b[0m\u001b[0m\n\u001b[0;32m--> 664\u001b[0;31m                 \u001b[0mvalues\u001b[0m \u001b[0;34m=\u001b[0m \u001b[0mastype_nansafe\u001b[0m\u001b[0;34m(\u001b[0m\u001b[0mvalues\u001b[0m\u001b[0;34m.\u001b[0m\u001b[0mravel\u001b[0m\u001b[0;34m(\u001b[0m\u001b[0;34m)\u001b[0m\u001b[0;34m,\u001b[0m \u001b[0mdtype\u001b[0m\u001b[0;34m,\u001b[0m \u001b[0mcopy\u001b[0m\u001b[0;34m=\u001b[0m\u001b[0;32mTrue\u001b[0m\u001b[0;34m)\u001b[0m\u001b[0;34m\u001b[0m\u001b[0m\n\u001b[0m\u001b[1;32m    665\u001b[0m                 \u001b[0mvalues\u001b[0m \u001b[0;34m=\u001b[0m \u001b[0mvalues\u001b[0m\u001b[0;34m.\u001b[0m\u001b[0mreshape\u001b[0m\u001b[0;34m(\u001b[0m\u001b[0mself\u001b[0m\u001b[0;34m.\u001b[0m\u001b[0mshape\u001b[0m\u001b[0;34m)\u001b[0m\u001b[0;34m\u001b[0m\u001b[0m\n\u001b[1;32m    666\u001b[0m \u001b[0;34m\u001b[0m\u001b[0m\n",
      "\u001b[0;32m~/anaconda3/lib/python3.6/site-packages/pandas/core/dtypes/cast.py\u001b[0m in \u001b[0;36mastype_nansafe\u001b[0;34m(arr, dtype, copy)\u001b[0m\n\u001b[1;32m    728\u001b[0m \u001b[0;34m\u001b[0m\u001b[0m\n\u001b[1;32m    729\u001b[0m     \u001b[0;32mif\u001b[0m \u001b[0mcopy\u001b[0m\u001b[0;34m:\u001b[0m\u001b[0;34m\u001b[0m\u001b[0m\n\u001b[0;32m--> 730\u001b[0;31m         \u001b[0;32mreturn\u001b[0m \u001b[0marr\u001b[0m\u001b[0;34m.\u001b[0m\u001b[0mastype\u001b[0m\u001b[0;34m(\u001b[0m\u001b[0mdtype\u001b[0m\u001b[0;34m,\u001b[0m \u001b[0mcopy\u001b[0m\u001b[0;34m=\u001b[0m\u001b[0;32mTrue\u001b[0m\u001b[0;34m)\u001b[0m\u001b[0;34m\u001b[0m\u001b[0m\n\u001b[0m\u001b[1;32m    731\u001b[0m     \u001b[0;32mreturn\u001b[0m \u001b[0marr\u001b[0m\u001b[0;34m.\u001b[0m\u001b[0mview\u001b[0m\u001b[0;34m(\u001b[0m\u001b[0mdtype\u001b[0m\u001b[0;34m)\u001b[0m\u001b[0;34m\u001b[0m\u001b[0m\n\u001b[1;32m    732\u001b[0m \u001b[0;34m\u001b[0m\u001b[0m\n",
      "\u001b[0;31mValueError\u001b[0m: could not convert string to float: '31.29\\\\'"
     ]
    }
   ],
   "source": [
    "# 把经纬度都变成小数类型\n",
    "track_data.location_x = track_data.location_x.astype(float)\n",
    "track_data.location_y = track_data.location_y.astype(float)"
   ]
  },
  {
   "cell_type": "markdown",
   "metadata": {},
   "source": [
    "* 在运行过程中，发现location_y有异常值，不能转换成float  \n",
    "ValueError: could not convert string to float: '31.29\\\\\\\\'"
   ]
  },
  {
   "cell_type": "code",
   "execution_count": 16,
   "metadata": {},
   "outputs": [
    {
     "data": {
      "text/plain": [
       "31.26\\    1\n",
       "31.29\\    1\n",
       "31.28\\    1\n",
       "Name: location_y, dtype: int64"
      ]
     },
     "execution_count": 16,
     "metadata": {},
     "output_type": "execute_result"
    }
   ],
   "source": [
    "# 查找location_y中带\\\\的值\n",
    "track_data.location_y.str.extract('(\\d+.\\d+\\\\\\\\)', expand = False).value_counts()"
   ]
  },
  {
   "cell_type": "code",
   "execution_count": 17,
   "metadata": {},
   "outputs": [],
   "source": [
    "# 去掉\\\\后的值代替原来的\n",
    "track_data.location_y = track_data.location_y.replace({'31.29\\\\': '31.29', '31.26\\\\': '31.26', '31.28\\\\': '31.28'})\n",
    "# 转成小数类型\n",
    "track_data.location_y = track_data.location_y.astype(float)"
   ]
  },
  {
   "cell_type": "code",
   "execution_count": 18,
   "metadata": {},
   "outputs": [
    {
     "name": "stdout",
     "output_type": "stream",
     "text": [
      "<class 'pandas.core.frame.DataFrame'>\n",
      "RangeIndex: 2381105 entries, 0 to 2381104\n",
      "Data columns (total 3 columns):\n",
      "orderid       int64\n",
      "location_x    float64\n",
      "location_y    float64\n",
      "dtypes: float64(2), int64(1)\n",
      "memory usage: 54.5 MB\n"
     ]
    }
   ],
   "source": [
    "track_data.info()"
   ]
  },
  {
   "cell_type": "code",
   "execution_count": 19,
   "metadata": {},
   "outputs": [
    {
     "data": {
      "text/html": [
       "<div>\n",
       "<style scoped>\n",
       "    .dataframe tbody tr th:only-of-type {\n",
       "        vertical-align: middle;\n",
       "    }\n",
       "\n",
       "    .dataframe tbody tr th {\n",
       "        vertical-align: top;\n",
       "    }\n",
       "\n",
       "    .dataframe thead th {\n",
       "        text-align: right;\n",
       "    }\n",
       "</style>\n",
       "<table border=\"1\" class=\"dataframe\">\n",
       "  <thead>\n",
       "    <tr style=\"text-align: right;\">\n",
       "      <th></th>\n",
       "      <th>orderid</th>\n",
       "      <th>location_x</th>\n",
       "      <th>location_y</th>\n",
       "    </tr>\n",
       "  </thead>\n",
       "  <tbody>\n",
       "    <tr>\n",
       "      <th>0</th>\n",
       "      <td>78387</td>\n",
       "      <td>121.347</td>\n",
       "      <td>31.392</td>\n",
       "    </tr>\n",
       "    <tr>\n",
       "      <th>1</th>\n",
       "      <td>78387</td>\n",
       "      <td>121.348</td>\n",
       "      <td>31.389</td>\n",
       "    </tr>\n",
       "    <tr>\n",
       "      <th>2</th>\n",
       "      <td>78387</td>\n",
       "      <td>121.349</td>\n",
       "      <td>31.390</td>\n",
       "    </tr>\n",
       "    <tr>\n",
       "      <th>3</th>\n",
       "      <td>78387</td>\n",
       "      <td>121.350</td>\n",
       "      <td>31.390</td>\n",
       "    </tr>\n",
       "    <tr>\n",
       "      <th>4</th>\n",
       "      <td>78387</td>\n",
       "      <td>121.351</td>\n",
       "      <td>31.390</td>\n",
       "    </tr>\n",
       "  </tbody>\n",
       "</table>\n",
       "</div>"
      ],
      "text/plain": [
       "   orderid  location_x  location_y\n",
       "0    78387     121.347      31.392\n",
       "1    78387     121.348      31.389\n",
       "2    78387     121.349      31.390\n",
       "3    78387     121.350      31.390\n",
       "4    78387     121.351      31.390"
      ]
     },
     "execution_count": 19,
     "metadata": {},
     "output_type": "execute_result"
    }
   ],
   "source": [
    "track_data.head()"
   ]
  },
  {
   "cell_type": "markdown",
   "metadata": {},
   "source": [
    "* 根据每个经纬度，算出两点之间的距离(km)  \n",
    "参考：[python利用地图两个点的经纬度计算两点间距离](https://blog.csdn.net/u013401853/article/details/73368850)"
   ]
  },
  {
   "cell_type": "code",
   "execution_count": 20,
   "metadata": {},
   "outputs": [],
   "source": [
    "EARTH_RADIUS=6371           # 地球平均半径，6371km\n",
    " \n",
    "def hav(theta):\n",
    "    s = sin(theta / 2)\n",
    "    return s * s\n",
    " \n",
    "def get_distance_hav(lat0, lng0, lat1, lng1):\n",
    "    \"用haversine公式计算球面两点间的距离。\"\n",
    "    # 经纬度转换成弧度\n",
    "    lat0 = radians(lat0)\n",
    "    lat1 = radians(lat1)\n",
    "    lng0 = radians(lng0)\n",
    "    lng1 = radians(lng1)\n",
    " \n",
    "    dlng = fabs(lng0 - lng1)\n",
    "    dlat = fabs(lat0 - lat1)\n",
    "    h = hav(dlat) + cos(lat0) * cos(lat1) * hav(dlng)\n",
    "    distance = 2 * EARTH_RADIUS * asin(sqrt(h))\n",
    " \n",
    "    return '%.2f' % distance"
   ]
  },
  {
   "cell_type": "code",
   "execution_count": 21,
   "metadata": {},
   "outputs": [],
   "source": [
    "# 计算两点之间的距离\n",
    "distance = []\n",
    "for index in track_data.index:\n",
    "    if index <= 2381103:\n",
    "        if track_data.orderid[index] != track_data.orderid[index +1]:\n",
    "            continue\n",
    "        lon1, lat1 = (track_data.location_x[index], track_data.location_y[index])\n",
    "        lon2, lat2 = (track_data.location_x[index+1], track_data.location_y[index+1])\n",
    "        dis = get_distance_hav(lon1,lat1,lon2,lat2)\n",
    "        distance.append(dis)\n",
    "    \n",
    "track_data['distance'] = pd.Series(distance)"
   ]
  },
  {
   "cell_type": "code",
   "execution_count": 22,
   "metadata": {},
   "outputs": [],
   "source": [
    "# 转成小数类型\n",
    "track_data['distance'] = track_data['distance'].astype(float)"
   ]
  },
  {
   "cell_type": "code",
   "execution_count": 23,
   "metadata": {},
   "outputs": [
    {
     "data": {
      "text/html": [
       "<div>\n",
       "<style scoped>\n",
       "    .dataframe tbody tr th:only-of-type {\n",
       "        vertical-align: middle;\n",
       "    }\n",
       "\n",
       "    .dataframe tbody tr th {\n",
       "        vertical-align: top;\n",
       "    }\n",
       "\n",
       "    .dataframe thead th {\n",
       "        text-align: right;\n",
       "    }\n",
       "</style>\n",
       "<table border=\"1\" class=\"dataframe\">\n",
       "  <thead>\n",
       "    <tr style=\"text-align: right;\">\n",
       "      <th></th>\n",
       "      <th>orderid</th>\n",
       "      <th>location_x</th>\n",
       "      <th>location_y</th>\n",
       "      <th>distance</th>\n",
       "    </tr>\n",
       "  </thead>\n",
       "  <tbody>\n",
       "    <tr>\n",
       "      <th>0</th>\n",
       "      <td>78387</td>\n",
       "      <td>121.347</td>\n",
       "      <td>31.392</td>\n",
       "      <td>0.21</td>\n",
       "    </tr>\n",
       "    <tr>\n",
       "      <th>1</th>\n",
       "      <td>78387</td>\n",
       "      <td>121.348</td>\n",
       "      <td>31.389</td>\n",
       "      <td>0.13</td>\n",
       "    </tr>\n",
       "    <tr>\n",
       "      <th>2</th>\n",
       "      <td>78387</td>\n",
       "      <td>121.349</td>\n",
       "      <td>31.390</td>\n",
       "      <td>0.11</td>\n",
       "    </tr>\n",
       "    <tr>\n",
       "      <th>3</th>\n",
       "      <td>78387</td>\n",
       "      <td>121.350</td>\n",
       "      <td>31.390</td>\n",
       "      <td>0.11</td>\n",
       "    </tr>\n",
       "    <tr>\n",
       "      <th>4</th>\n",
       "      <td>78387</td>\n",
       "      <td>121.351</td>\n",
       "      <td>31.390</td>\n",
       "      <td>0.06</td>\n",
       "    </tr>\n",
       "  </tbody>\n",
       "</table>\n",
       "</div>"
      ],
      "text/plain": [
       "   orderid  location_x  location_y  distance\n",
       "0    78387     121.347      31.392      0.21\n",
       "1    78387     121.348      31.389      0.13\n",
       "2    78387     121.349      31.390      0.11\n",
       "3    78387     121.350      31.390      0.11\n",
       "4    78387     121.351      31.390      0.06"
      ]
     },
     "execution_count": 23,
     "metadata": {},
     "output_type": "execute_result"
    }
   ],
   "source": [
    "track_data.head()"
   ]
  },
  {
   "cell_type": "code",
   "execution_count": 24,
   "metadata": {},
   "outputs": [],
   "source": [
    "# 根据每个orderid计算行程的总距离\n",
    "orderid_dis = track_data['distance'].groupby(track_data['orderid']).sum().to_frame().reset_index()"
   ]
  },
  {
   "cell_type": "code",
   "execution_count": 25,
   "metadata": {},
   "outputs": [
    {
     "data": {
      "text/html": [
       "<div>\n",
       "<style scoped>\n",
       "    .dataframe tbody tr th:only-of-type {\n",
       "        vertical-align: middle;\n",
       "    }\n",
       "\n",
       "    .dataframe tbody tr th {\n",
       "        vertical-align: top;\n",
       "    }\n",
       "\n",
       "    .dataframe thead th {\n",
       "        text-align: right;\n",
       "    }\n",
       "</style>\n",
       "<table border=\"1\" class=\"dataframe\">\n",
       "  <thead>\n",
       "    <tr style=\"text-align: right;\">\n",
       "      <th></th>\n",
       "      <th>orderid</th>\n",
       "      <th>distance</th>\n",
       "    </tr>\n",
       "  </thead>\n",
       "  <tbody>\n",
       "    <tr>\n",
       "      <th>0</th>\n",
       "      <td>6</td>\n",
       "      <td>1.24</td>\n",
       "    </tr>\n",
       "    <tr>\n",
       "      <th>1</th>\n",
       "      <td>24</td>\n",
       "      <td>4.24</td>\n",
       "    </tr>\n",
       "    <tr>\n",
       "      <th>2</th>\n",
       "      <td>63</td>\n",
       "      <td>1.94</td>\n",
       "    </tr>\n",
       "    <tr>\n",
       "      <th>3</th>\n",
       "      <td>68</td>\n",
       "      <td>4.30</td>\n",
       "    </tr>\n",
       "    <tr>\n",
       "      <th>4</th>\n",
       "      <td>72</td>\n",
       "      <td>9.94</td>\n",
       "    </tr>\n",
       "  </tbody>\n",
       "</table>\n",
       "</div>"
      ],
      "text/plain": [
       "   orderid  distance\n",
       "0        6      1.24\n",
       "1       24      4.24\n",
       "2       63      1.94\n",
       "3       68      4.30\n",
       "4       72      9.94"
      ]
     },
     "execution_count": 25,
     "metadata": {},
     "output_type": "execute_result"
    }
   ],
   "source": [
    "orderid_dis.head()"
   ]
  },
  {
   "cell_type": "code",
   "execution_count": 26,
   "metadata": {},
   "outputs": [
    {
     "name": "stdout",
     "output_type": "stream",
     "text": [
      "<class 'pandas.core.frame.DataFrame'>\n",
      "RangeIndex: 102361 entries, 0 to 102360\n",
      "Data columns (total 2 columns):\n",
      "orderid     102361 non-null int64\n",
      "distance    102361 non-null float64\n",
      "dtypes: float64(1), int64(1)\n",
      "memory usage: 1.6 MB\n"
     ]
    }
   ],
   "source": [
    "orderid_dis.info()"
   ]
  },
  {
   "cell_type": "code",
   "execution_count": 27,
   "metadata": {},
   "outputs": [
    {
     "data": {
      "text/html": [
       "<div>\n",
       "<style scoped>\n",
       "    .dataframe tbody tr th:only-of-type {\n",
       "        vertical-align: middle;\n",
       "    }\n",
       "\n",
       "    .dataframe tbody tr th {\n",
       "        vertical-align: top;\n",
       "    }\n",
       "\n",
       "    .dataframe thead th {\n",
       "        text-align: right;\n",
       "    }\n",
       "</style>\n",
       "<table border=\"1\" class=\"dataframe\">\n",
       "  <thead>\n",
       "    <tr style=\"text-align: right;\">\n",
       "      <th></th>\n",
       "      <th>bikeid</th>\n",
       "      <th>userid</th>\n",
       "      <th>start_time</th>\n",
       "      <th>start_location_x</th>\n",
       "      <th>start_location_y</th>\n",
       "      <th>end_time</th>\n",
       "      <th>end_location_x</th>\n",
       "      <th>end_location_y</th>\n",
       "      <th>track</th>\n",
       "      <th>diff_mins</th>\n",
       "      <th>location</th>\n",
       "    </tr>\n",
       "    <tr>\n",
       "      <th>orderid</th>\n",
       "      <th></th>\n",
       "      <th></th>\n",
       "      <th></th>\n",
       "      <th></th>\n",
       "      <th></th>\n",
       "      <th></th>\n",
       "      <th></th>\n",
       "      <th></th>\n",
       "      <th></th>\n",
       "      <th></th>\n",
       "      <th></th>\n",
       "    </tr>\n",
       "  </thead>\n",
       "  <tbody>\n",
       "    <tr>\n",
       "      <th>78387</th>\n",
       "      <td>158357</td>\n",
       "      <td>10080</td>\n",
       "      <td>2016-08-20 06:57:00</td>\n",
       "      <td>121.348</td>\n",
       "      <td>31.389</td>\n",
       "      <td>2016-08-20 07:04:00</td>\n",
       "      <td>121.357</td>\n",
       "      <td>31.388</td>\n",
       "      <td>121.347,31.392#121.348,31.389#121.349,31.390#1...</td>\n",
       "      <td>7</td>\n",
       "      <td>[121.347,31.392, 121.348,31.389, 121.349,31.39...</td>\n",
       "    </tr>\n",
       "    <tr>\n",
       "      <th>891333</th>\n",
       "      <td>92776</td>\n",
       "      <td>6605</td>\n",
       "      <td>2016-08-29 19:09:00</td>\n",
       "      <td>121.508</td>\n",
       "      <td>31.279</td>\n",
       "      <td>2016-08-29 19:31:00</td>\n",
       "      <td>121.489</td>\n",
       "      <td>31.271</td>\n",
       "      <td>121.489,31.270#121.489,31.271#121.490,31.270#1...</td>\n",
       "      <td>22</td>\n",
       "      <td>[121.489,31.270, 121.489,31.271, 121.490,31.27...</td>\n",
       "    </tr>\n",
       "    <tr>\n",
       "      <th>1106623</th>\n",
       "      <td>152045</td>\n",
       "      <td>8876</td>\n",
       "      <td>2016-08-13 16:17:00</td>\n",
       "      <td>121.383</td>\n",
       "      <td>31.254</td>\n",
       "      <td>2016-08-13 16:36:00</td>\n",
       "      <td>121.405</td>\n",
       "      <td>31.248</td>\n",
       "      <td>121.381,31.251#121.382,31.251#121.382,31.252#1...</td>\n",
       "      <td>19</td>\n",
       "      <td>[121.381,31.251, 121.382,31.251, 121.382,31.25...</td>\n",
       "    </tr>\n",
       "    <tr>\n",
       "      <th>1389484</th>\n",
       "      <td>196259</td>\n",
       "      <td>10648</td>\n",
       "      <td>2016-08-23 21:34:00</td>\n",
       "      <td>121.484</td>\n",
       "      <td>31.320</td>\n",
       "      <td>2016-08-23 21:43:00</td>\n",
       "      <td>121.471</td>\n",
       "      <td>31.325</td>\n",
       "      <td>121.471,31.325#121.472,31.325#121.473,31.324#1...</td>\n",
       "      <td>9</td>\n",
       "      <td>[121.471,31.325, 121.472,31.325, 121.473,31.32...</td>\n",
       "    </tr>\n",
       "    <tr>\n",
       "      <th>188537</th>\n",
       "      <td>78208</td>\n",
       "      <td>11735</td>\n",
       "      <td>2016-08-16 07:32:00</td>\n",
       "      <td>121.407</td>\n",
       "      <td>31.292</td>\n",
       "      <td>2016-08-16 07:41:00</td>\n",
       "      <td>121.418</td>\n",
       "      <td>31.288</td>\n",
       "      <td>121.407,31.291#121.407,31.292#121.408,31.291#1...</td>\n",
       "      <td>9</td>\n",
       "      <td>[121.407,31.291, 121.407,31.292, 121.408,31.29...</td>\n",
       "    </tr>\n",
       "  </tbody>\n",
       "</table>\n",
       "</div>"
      ],
      "text/plain": [
       "         bikeid  userid          start_time  start_location_x  \\\n",
       "orderid                                                         \n",
       "78387    158357   10080 2016-08-20 06:57:00           121.348   \n",
       "891333    92776    6605 2016-08-29 19:09:00           121.508   \n",
       "1106623  152045    8876 2016-08-13 16:17:00           121.383   \n",
       "1389484  196259   10648 2016-08-23 21:34:00           121.484   \n",
       "188537    78208   11735 2016-08-16 07:32:00           121.407   \n",
       "\n",
       "         start_location_y            end_time  end_location_x  end_location_y  \\\n",
       "orderid                                                                         \n",
       "78387              31.389 2016-08-20 07:04:00         121.357          31.388   \n",
       "891333             31.279 2016-08-29 19:31:00         121.489          31.271   \n",
       "1106623            31.254 2016-08-13 16:36:00         121.405          31.248   \n",
       "1389484            31.320 2016-08-23 21:43:00         121.471          31.325   \n",
       "188537             31.292 2016-08-16 07:41:00         121.418          31.288   \n",
       "\n",
       "                                                     track  diff_mins  \\\n",
       "orderid                                                                 \n",
       "78387    121.347,31.392#121.348,31.389#121.349,31.390#1...          7   \n",
       "891333   121.489,31.270#121.489,31.271#121.490,31.270#1...         22   \n",
       "1106623  121.381,31.251#121.382,31.251#121.382,31.252#1...         19   \n",
       "1389484  121.471,31.325#121.472,31.325#121.473,31.324#1...          9   \n",
       "188537   121.407,31.291#121.407,31.292#121.408,31.291#1...          9   \n",
       "\n",
       "                                                  location  \n",
       "orderid                                                     \n",
       "78387    [121.347,31.392, 121.348,31.389, 121.349,31.39...  \n",
       "891333   [121.489,31.270, 121.489,31.271, 121.490,31.27...  \n",
       "1106623  [121.381,31.251, 121.382,31.251, 121.382,31.25...  \n",
       "1389484  [121.471,31.325, 121.472,31.325, 121.473,31.32...  \n",
       "188537   [121.407,31.291, 121.407,31.292, 121.408,31.29...  "
      ]
     },
     "execution_count": 27,
     "metadata": {},
     "output_type": "execute_result"
    }
   ],
   "source": [
    "# 设置orderid为index\n",
    "mobike_clean.set_index('orderid').head()"
   ]
  },
  {
   "cell_type": "code",
   "execution_count": 28,
   "metadata": {},
   "outputs": [],
   "source": [
    "# 根据orderid，合并总距离到原数据中\n",
    "mobike_clean_com = mobike_clean.join(orderid_dis.set_index('orderid'), on = 'orderid')"
   ]
  },
  {
   "cell_type": "code",
   "execution_count": 29,
   "metadata": {},
   "outputs": [],
   "source": [
    "# 删除track列\n",
    "mobike_clean_com = mobike_clean_com.drop('track', axis = 1)"
   ]
  },
  {
   "cell_type": "code",
   "execution_count": 30,
   "metadata": {},
   "outputs": [],
   "source": [
    "# 按起始日期计算星期，以便之后区分工作日和周末\n",
    "weekday = []\n",
    "\n",
    "for i in mobike_clean_com['start_time']:\n",
    "    weekday.append(i.weekday())\n",
    "    \n",
    "mobike_clean_com['weekday'] = pd.Series(weekday)"
   ]
  },
  {
   "cell_type": "code",
   "execution_count": 31,
   "metadata": {},
   "outputs": [
    {
     "data": {
      "text/html": [
       "<div>\n",
       "<style scoped>\n",
       "    .dataframe tbody tr th:only-of-type {\n",
       "        vertical-align: middle;\n",
       "    }\n",
       "\n",
       "    .dataframe tbody tr th {\n",
       "        vertical-align: top;\n",
       "    }\n",
       "\n",
       "    .dataframe thead th {\n",
       "        text-align: right;\n",
       "    }\n",
       "</style>\n",
       "<table border=\"1\" class=\"dataframe\">\n",
       "  <thead>\n",
       "    <tr style=\"text-align: right;\">\n",
       "      <th></th>\n",
       "      <th>orderid</th>\n",
       "      <th>bikeid</th>\n",
       "      <th>userid</th>\n",
       "      <th>start_time</th>\n",
       "      <th>start_location_x</th>\n",
       "      <th>start_location_y</th>\n",
       "      <th>end_time</th>\n",
       "      <th>end_location_x</th>\n",
       "      <th>end_location_y</th>\n",
       "      <th>diff_mins</th>\n",
       "      <th>location</th>\n",
       "      <th>distance</th>\n",
       "      <th>weekday</th>\n",
       "    </tr>\n",
       "  </thead>\n",
       "  <tbody>\n",
       "    <tr>\n",
       "      <th>0</th>\n",
       "      <td>78387</td>\n",
       "      <td>158357</td>\n",
       "      <td>10080</td>\n",
       "      <td>2016-08-20 06:57:00</td>\n",
       "      <td>121.348</td>\n",
       "      <td>31.389</td>\n",
       "      <td>2016-08-20 07:04:00</td>\n",
       "      <td>121.357</td>\n",
       "      <td>31.388</td>\n",
       "      <td>7</td>\n",
       "      <td>[121.347,31.392, 121.348,31.389, 121.349,31.39...</td>\n",
       "      <td>1.94</td>\n",
       "      <td>5</td>\n",
       "    </tr>\n",
       "    <tr>\n",
       "      <th>1</th>\n",
       "      <td>891333</td>\n",
       "      <td>92776</td>\n",
       "      <td>6605</td>\n",
       "      <td>2016-08-29 19:09:00</td>\n",
       "      <td>121.508</td>\n",
       "      <td>31.279</td>\n",
       "      <td>2016-08-29 19:31:00</td>\n",
       "      <td>121.489</td>\n",
       "      <td>31.271</td>\n",
       "      <td>22</td>\n",
       "      <td>[121.489,31.270, 121.489,31.271, 121.490,31.27...</td>\n",
       "      <td>3.36</td>\n",
       "      <td>0</td>\n",
       "    </tr>\n",
       "    <tr>\n",
       "      <th>2</th>\n",
       "      <td>1106623</td>\n",
       "      <td>152045</td>\n",
       "      <td>8876</td>\n",
       "      <td>2016-08-13 16:17:00</td>\n",
       "      <td>121.383</td>\n",
       "      <td>31.254</td>\n",
       "      <td>2016-08-13 16:36:00</td>\n",
       "      <td>121.405</td>\n",
       "      <td>31.248</td>\n",
       "      <td>19</td>\n",
       "      <td>[121.381,31.251, 121.382,31.251, 121.382,31.25...</td>\n",
       "      <td>4.58</td>\n",
       "      <td>5</td>\n",
       "    </tr>\n",
       "    <tr>\n",
       "      <th>3</th>\n",
       "      <td>1389484</td>\n",
       "      <td>196259</td>\n",
       "      <td>10648</td>\n",
       "      <td>2016-08-23 21:34:00</td>\n",
       "      <td>121.484</td>\n",
       "      <td>31.320</td>\n",
       "      <td>2016-08-23 21:43:00</td>\n",
       "      <td>121.471</td>\n",
       "      <td>31.325</td>\n",
       "      <td>9</td>\n",
       "      <td>[121.471,31.325, 121.472,31.325, 121.473,31.32...</td>\n",
       "      <td>2.54</td>\n",
       "      <td>1</td>\n",
       "    </tr>\n",
       "    <tr>\n",
       "      <th>4</th>\n",
       "      <td>188537</td>\n",
       "      <td>78208</td>\n",
       "      <td>11735</td>\n",
       "      <td>2016-08-16 07:32:00</td>\n",
       "      <td>121.407</td>\n",
       "      <td>31.292</td>\n",
       "      <td>2016-08-16 07:41:00</td>\n",
       "      <td>121.418</td>\n",
       "      <td>31.288</td>\n",
       "      <td>9</td>\n",
       "      <td>[121.407,31.291, 121.407,31.292, 121.408,31.29...</td>\n",
       "      <td>1.02</td>\n",
       "      <td>1</td>\n",
       "    </tr>\n",
       "  </tbody>\n",
       "</table>\n",
       "</div>"
      ],
      "text/plain": [
       "   orderid  bikeid  userid          start_time  start_location_x  \\\n",
       "0    78387  158357   10080 2016-08-20 06:57:00           121.348   \n",
       "1   891333   92776    6605 2016-08-29 19:09:00           121.508   \n",
       "2  1106623  152045    8876 2016-08-13 16:17:00           121.383   \n",
       "3  1389484  196259   10648 2016-08-23 21:34:00           121.484   \n",
       "4   188537   78208   11735 2016-08-16 07:32:00           121.407   \n",
       "\n",
       "   start_location_y            end_time  end_location_x  end_location_y  \\\n",
       "0            31.389 2016-08-20 07:04:00         121.357          31.388   \n",
       "1            31.279 2016-08-29 19:31:00         121.489          31.271   \n",
       "2            31.254 2016-08-13 16:36:00         121.405          31.248   \n",
       "3            31.320 2016-08-23 21:43:00         121.471          31.325   \n",
       "4            31.292 2016-08-16 07:41:00         121.418          31.288   \n",
       "\n",
       "   diff_mins                                           location  distance  \\\n",
       "0          7  [121.347,31.392, 121.348,31.389, 121.349,31.39...      1.94   \n",
       "1         22  [121.489,31.270, 121.489,31.271, 121.490,31.27...      3.36   \n",
       "2         19  [121.381,31.251, 121.382,31.251, 121.382,31.25...      4.58   \n",
       "3          9  [121.471,31.325, 121.472,31.325, 121.473,31.32...      2.54   \n",
       "4          9  [121.407,31.291, 121.407,31.292, 121.408,31.29...      1.02   \n",
       "\n",
       "   weekday  \n",
       "0        5  \n",
       "1        0  \n",
       "2        5  \n",
       "3        1  \n",
       "4        1  "
      ]
     },
     "execution_count": 31,
     "metadata": {},
     "output_type": "execute_result"
    }
   ],
   "source": [
    "mobike_clean_com.head()"
   ]
  },
  {
   "cell_type": "markdown",
   "metadata": {},
   "source": [
    "##### 备注\n",
    "* weekday表示一周中的第几天，数字0-6代表周一至周日"
   ]
  },
  {
   "cell_type": "code",
   "execution_count": 32,
   "metadata": {},
   "outputs": [
    {
     "data": {
      "text/html": [
       "<div>\n",
       "<style scoped>\n",
       "    .dataframe tbody tr th:only-of-type {\n",
       "        vertical-align: middle;\n",
       "    }\n",
       "\n",
       "    .dataframe tbody tr th {\n",
       "        vertical-align: top;\n",
       "    }\n",
       "\n",
       "    .dataframe thead th {\n",
       "        text-align: right;\n",
       "    }\n",
       "</style>\n",
       "<table border=\"1\" class=\"dataframe\">\n",
       "  <thead>\n",
       "    <tr style=\"text-align: right;\">\n",
       "      <th></th>\n",
       "      <th>orderid</th>\n",
       "      <th>bikeid</th>\n",
       "      <th>userid</th>\n",
       "      <th>start_time</th>\n",
       "      <th>start_location_x</th>\n",
       "      <th>start_location_y</th>\n",
       "      <th>end_time</th>\n",
       "      <th>end_location_x</th>\n",
       "      <th>end_location_y</th>\n",
       "      <th>diff_mins</th>\n",
       "      <th>location</th>\n",
       "      <th>distance</th>\n",
       "      <th>weekday</th>\n",
       "    </tr>\n",
       "  </thead>\n",
       "  <tbody>\n",
       "    <tr>\n",
       "      <th>0</th>\n",
       "      <td>78387</td>\n",
       "      <td>158357</td>\n",
       "      <td>10080</td>\n",
       "      <td>2016-08-20 06:57:00</td>\n",
       "      <td>121.348</td>\n",
       "      <td>31.389</td>\n",
       "      <td>2016-08-20 07:04:00</td>\n",
       "      <td>121.357</td>\n",
       "      <td>31.388</td>\n",
       "      <td>7</td>\n",
       "      <td>[121.347,31.392, 121.348,31.389, 121.349,31.39...</td>\n",
       "      <td>1.94</td>\n",
       "      <td>5</td>\n",
       "    </tr>\n",
       "    <tr>\n",
       "      <th>1</th>\n",
       "      <td>891333</td>\n",
       "      <td>92776</td>\n",
       "      <td>6605</td>\n",
       "      <td>2016-08-29 19:09:00</td>\n",
       "      <td>121.508</td>\n",
       "      <td>31.279</td>\n",
       "      <td>2016-08-29 19:31:00</td>\n",
       "      <td>121.489</td>\n",
       "      <td>31.271</td>\n",
       "      <td>22</td>\n",
       "      <td>[121.489,31.270, 121.489,31.271, 121.490,31.27...</td>\n",
       "      <td>3.36</td>\n",
       "      <td>0</td>\n",
       "    </tr>\n",
       "    <tr>\n",
       "      <th>2</th>\n",
       "      <td>1106623</td>\n",
       "      <td>152045</td>\n",
       "      <td>8876</td>\n",
       "      <td>2016-08-13 16:17:00</td>\n",
       "      <td>121.383</td>\n",
       "      <td>31.254</td>\n",
       "      <td>2016-08-13 16:36:00</td>\n",
       "      <td>121.405</td>\n",
       "      <td>31.248</td>\n",
       "      <td>19</td>\n",
       "      <td>[121.381,31.251, 121.382,31.251, 121.382,31.25...</td>\n",
       "      <td>4.58</td>\n",
       "      <td>5</td>\n",
       "    </tr>\n",
       "    <tr>\n",
       "      <th>3</th>\n",
       "      <td>1389484</td>\n",
       "      <td>196259</td>\n",
       "      <td>10648</td>\n",
       "      <td>2016-08-23 21:34:00</td>\n",
       "      <td>121.484</td>\n",
       "      <td>31.320</td>\n",
       "      <td>2016-08-23 21:43:00</td>\n",
       "      <td>121.471</td>\n",
       "      <td>31.325</td>\n",
       "      <td>9</td>\n",
       "      <td>[121.471,31.325, 121.472,31.325, 121.473,31.32...</td>\n",
       "      <td>2.54</td>\n",
       "      <td>1</td>\n",
       "    </tr>\n",
       "    <tr>\n",
       "      <th>4</th>\n",
       "      <td>188537</td>\n",
       "      <td>78208</td>\n",
       "      <td>11735</td>\n",
       "      <td>2016-08-16 07:32:00</td>\n",
       "      <td>121.407</td>\n",
       "      <td>31.292</td>\n",
       "      <td>2016-08-16 07:41:00</td>\n",
       "      <td>121.418</td>\n",
       "      <td>31.288</td>\n",
       "      <td>9</td>\n",
       "      <td>[121.407,31.291, 121.407,31.292, 121.408,31.29...</td>\n",
       "      <td>1.02</td>\n",
       "      <td>1</td>\n",
       "    </tr>\n",
       "  </tbody>\n",
       "</table>\n",
       "</div>"
      ],
      "text/plain": [
       "   orderid  bikeid  userid          start_time  start_location_x  \\\n",
       "0    78387  158357   10080 2016-08-20 06:57:00           121.348   \n",
       "1   891333   92776    6605 2016-08-29 19:09:00           121.508   \n",
       "2  1106623  152045    8876 2016-08-13 16:17:00           121.383   \n",
       "3  1389484  196259   10648 2016-08-23 21:34:00           121.484   \n",
       "4   188537   78208   11735 2016-08-16 07:32:00           121.407   \n",
       "\n",
       "   start_location_y            end_time  end_location_x  end_location_y  \\\n",
       "0            31.389 2016-08-20 07:04:00         121.357          31.388   \n",
       "1            31.279 2016-08-29 19:31:00         121.489          31.271   \n",
       "2            31.254 2016-08-13 16:36:00         121.405          31.248   \n",
       "3            31.320 2016-08-23 21:43:00         121.471          31.325   \n",
       "4            31.292 2016-08-16 07:41:00         121.418          31.288   \n",
       "\n",
       "   diff_mins                                           location  distance  \\\n",
       "0          7  [121.347,31.392, 121.348,31.389, 121.349,31.39...      1.94   \n",
       "1         22  [121.489,31.270, 121.489,31.271, 121.490,31.27...      3.36   \n",
       "2         19  [121.381,31.251, 121.382,31.251, 121.382,31.25...      4.58   \n",
       "3          9  [121.471,31.325, 121.472,31.325, 121.473,31.32...      2.54   \n",
       "4          9  [121.407,31.291, 121.407,31.292, 121.408,31.29...      1.02   \n",
       "\n",
       "   weekday  \n",
       "0        5  \n",
       "1        0  \n",
       "2        5  \n",
       "3        1  \n",
       "4        1  "
      ]
     },
     "execution_count": 32,
     "metadata": {},
     "output_type": "execute_result"
    }
   ],
   "source": [
    "mobike_clean_com.head()"
   ]
  },
  {
   "cell_type": "markdown",
   "metadata": {},
   "source": [
    "### 数据导出"
   ]
  },
  {
   "cell_type": "code",
   "execution_count": 33,
   "metadata": {},
   "outputs": [],
   "source": [
    "# 数据导出\n",
    "track_data.to_csv('track_data.csv')"
   ]
  },
  {
   "cell_type": "code",
   "execution_count": 34,
   "metadata": {},
   "outputs": [],
   "source": [
    "mobike_clean_com.to_csv('mobike_clean_data.csv', index = False)"
   ]
  },
  {
   "cell_type": "code",
   "execution_count": null,
   "metadata": {},
   "outputs": [],
   "source": []
  }
 ],
 "metadata": {
  "kernelspec": {
   "display_name": "Python 3",
   "language": "python",
   "name": "python3"
  },
  "language_info": {
   "codemirror_mode": {
    "name": "ipython",
    "version": 3
   },
   "file_extension": ".py",
   "mimetype": "text/x-python",
   "name": "python",
   "nbconvert_exporter": "python",
   "pygments_lexer": "ipython3",
   "version": "3.6.5"
  }
 },
 "nbformat": 4,
 "nbformat_minor": 2
}
